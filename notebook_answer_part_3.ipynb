{
 "cells": [
  {
   "cell_type": "markdown",
   "metadata": {
    "collapsed": true,
    "pycharm": {
     "name": "#%% md\n"
    }
   },
   "source": [
    "## Problem 3\n",
    "* Dataset used will be from Course Project, but will perform different question not used in course project\n",
    "* the first question will be a classical question to see whether I can predict Odor from the predictor variables\n",
    "* the second question will deal with unsupervised learning and see whether I can learn hidden patterns from the\n",
    "mushroom categories themselves\n",
    "* Evaluation and reference to which datacamp course was used will be documented in the notebook after each trial run"
   ]
  },
  {
   "cell_type": "code",
   "execution_count": 1,
   "outputs": [],
   "source": [
    "# Import packages\n",
    "\n",
    "import pandas as pd\n",
    "import numpy as np\n",
    "import matplotlib.pyplot as plt\n",
    "from IPython.core.display import display\n",
    "import seaborn as sns\n",
    "\n",
    "from scipy import stats\n",
    "from sklearn.preprocessing import LabelEncoder, OneHotEncoder, OrdinalEncoder\n",
    "from sklearn.pipeline import Pipeline\n",
    "from sklearn.ensemble import RandomForestClassifier\n",
    "from sklearn.model_selection import train_test_split, GridSearchCV, RandomizedSearchCV\n",
    "from sklearn.neighbors import KNeighborsClassifier\n",
    "from sklearn.tree import DecisionTreeClassifier\n",
    "from sklearn.neighbors import KNeighborsClassifier\n",
    "from sklearn.linear_model import LinearRegression, LogisticRegression\n",
    "from sklearn.svm import SVR\n",
    "from sklearn.preprocessing import StandardScaler, OrdinalEncoder, OneHotEncoder\n",
    "from sklearn.cluster import KMeans, AgglomerativeClustering\n",
    "from sklearn.compose import ColumnTransformer\n",
    "from sklearn.metrics import confusion_matrix, plot_confusion_matrix, accuracy_score, classification_report\n",
    "import plotly.express as px\n",
    "\n",
    "from scipy.cluster.hierarchy import linkage, dendrogram, cut_tree\n",
    "import joblib\n",
    "\n",
    "from sklearn import set_config\n",
    "sns.set_palette('Set2')\n",
    "set_config(display='diagram')\n",
    "\n",
    "from yellowbrick.cluster import KElbowVisualizer\n"
   ],
   "metadata": {
    "collapsed": false,
    "pycharm": {
     "name": "#%%\n"
    }
   }
  },
  {
   "cell_type": "markdown",
   "source": [
    "## First Question:\n",
    "### Predict the odor of mushroom from its predictor variables (different from course project which predicts edibility)\n",
    "### Classification methods will be used\n",
    "### Dataset: Mushroom edibility, source: from https://archive.ics.uci.edu/ml/datasets/mushroom\n",
    "* imported dataset will be already cleaned from course project"
   ],
   "metadata": {
    "collapsed": false,
    "pycharm": {
     "name": "#%% md\n"
    }
   }
  },
  {
   "cell_type": "code",
   "execution_count": 2,
   "outputs": [
    {
     "data": {
      "text/plain": "       Class Cap-Shape Cap-Surface Cap-Color  Bruises     Odor  \\\n0  poisonous    convex      smooth     brown  bruises  pungent   \n1     edible    convex      smooth    yellow  bruises   almond   \n2     edible      bell      smooth     white  bruises    anise   \n3  poisonous    convex       scaly     white  bruises  pungent   \n4     edible    convex      smooth      gray       no     none   \n\n  Gill-Attachment Gill-Spacing Gill-Size Gill-Color  ...  \\\n0            free        close    narrow      black  ...   \n1            free        close     broad      black  ...   \n2            free        close     broad      brown  ...   \n3            free        close    narrow      brown  ...   \n4            free      crowded     broad      black  ...   \n\n  Stalk-Surface-Above-Ring Stalk-Surface-Below-Ring Stalk-Color-Above-Ring  \\\n0                   smooth                   smooth                  white   \n1                   smooth                   smooth                  white   \n2                   smooth                   smooth                  white   \n3                   smooth                   smooth                  white   \n4                   smooth                   smooth                  white   \n\n  Stalk-Color-Below-Ring Veil-Color Ring-Number   Ring-Type Spore-Print-Color  \\\n0                  white      white         one     pendant             black   \n1                  white      white         one     pendant             brown   \n2                  white      white         one     pendant             brown   \n3                  white      white         one     pendant             black   \n4                  white      white         one  evanescent             brown   \n\n  Population  Habitat  \n0  scattered    urban  \n1   numerous  grasses  \n2   numerous  meadows  \n3  scattered    urban  \n4   abundant  grasses  \n\n[5 rows x 22 columns]",
      "text/html": "<div>\n<style scoped>\n    .dataframe tbody tr th:only-of-type {\n        vertical-align: middle;\n    }\n\n    .dataframe tbody tr th {\n        vertical-align: top;\n    }\n\n    .dataframe thead th {\n        text-align: right;\n    }\n</style>\n<table border=\"1\" class=\"dataframe\">\n  <thead>\n    <tr style=\"text-align: right;\">\n      <th></th>\n      <th>Class</th>\n      <th>Cap-Shape</th>\n      <th>Cap-Surface</th>\n      <th>Cap-Color</th>\n      <th>Bruises</th>\n      <th>Odor</th>\n      <th>Gill-Attachment</th>\n      <th>Gill-Spacing</th>\n      <th>Gill-Size</th>\n      <th>Gill-Color</th>\n      <th>...</th>\n      <th>Stalk-Surface-Above-Ring</th>\n      <th>Stalk-Surface-Below-Ring</th>\n      <th>Stalk-Color-Above-Ring</th>\n      <th>Stalk-Color-Below-Ring</th>\n      <th>Veil-Color</th>\n      <th>Ring-Number</th>\n      <th>Ring-Type</th>\n      <th>Spore-Print-Color</th>\n      <th>Population</th>\n      <th>Habitat</th>\n    </tr>\n  </thead>\n  <tbody>\n    <tr>\n      <th>0</th>\n      <td>poisonous</td>\n      <td>convex</td>\n      <td>smooth</td>\n      <td>brown</td>\n      <td>bruises</td>\n      <td>pungent</td>\n      <td>free</td>\n      <td>close</td>\n      <td>narrow</td>\n      <td>black</td>\n      <td>...</td>\n      <td>smooth</td>\n      <td>smooth</td>\n      <td>white</td>\n      <td>white</td>\n      <td>white</td>\n      <td>one</td>\n      <td>pendant</td>\n      <td>black</td>\n      <td>scattered</td>\n      <td>urban</td>\n    </tr>\n    <tr>\n      <th>1</th>\n      <td>edible</td>\n      <td>convex</td>\n      <td>smooth</td>\n      <td>yellow</td>\n      <td>bruises</td>\n      <td>almond</td>\n      <td>free</td>\n      <td>close</td>\n      <td>broad</td>\n      <td>black</td>\n      <td>...</td>\n      <td>smooth</td>\n      <td>smooth</td>\n      <td>white</td>\n      <td>white</td>\n      <td>white</td>\n      <td>one</td>\n      <td>pendant</td>\n      <td>brown</td>\n      <td>numerous</td>\n      <td>grasses</td>\n    </tr>\n    <tr>\n      <th>2</th>\n      <td>edible</td>\n      <td>bell</td>\n      <td>smooth</td>\n      <td>white</td>\n      <td>bruises</td>\n      <td>anise</td>\n      <td>free</td>\n      <td>close</td>\n      <td>broad</td>\n      <td>brown</td>\n      <td>...</td>\n      <td>smooth</td>\n      <td>smooth</td>\n      <td>white</td>\n      <td>white</td>\n      <td>white</td>\n      <td>one</td>\n      <td>pendant</td>\n      <td>brown</td>\n      <td>numerous</td>\n      <td>meadows</td>\n    </tr>\n    <tr>\n      <th>3</th>\n      <td>poisonous</td>\n      <td>convex</td>\n      <td>scaly</td>\n      <td>white</td>\n      <td>bruises</td>\n      <td>pungent</td>\n      <td>free</td>\n      <td>close</td>\n      <td>narrow</td>\n      <td>brown</td>\n      <td>...</td>\n      <td>smooth</td>\n      <td>smooth</td>\n      <td>white</td>\n      <td>white</td>\n      <td>white</td>\n      <td>one</td>\n      <td>pendant</td>\n      <td>black</td>\n      <td>scattered</td>\n      <td>urban</td>\n    </tr>\n    <tr>\n      <th>4</th>\n      <td>edible</td>\n      <td>convex</td>\n      <td>smooth</td>\n      <td>gray</td>\n      <td>no</td>\n      <td>none</td>\n      <td>free</td>\n      <td>crowded</td>\n      <td>broad</td>\n      <td>black</td>\n      <td>...</td>\n      <td>smooth</td>\n      <td>smooth</td>\n      <td>white</td>\n      <td>white</td>\n      <td>white</td>\n      <td>one</td>\n      <td>evanescent</td>\n      <td>brown</td>\n      <td>abundant</td>\n      <td>grasses</td>\n    </tr>\n  </tbody>\n</table>\n<p>5 rows × 22 columns</p>\n</div>"
     },
     "execution_count": 2,
     "metadata": {},
     "output_type": "execute_result"
    }
   ],
   "source": [
    "# import dataset\n",
    "mushroom = pd.read_csv('data/mushroom_imputed_2_adj.csv')\n",
    "mushroom.head()"
   ],
   "metadata": {
    "collapsed": false,
    "pycharm": {
     "name": "#%%\n"
    }
   }
  },
  {
   "cell_type": "code",
   "execution_count": 54,
   "outputs": [
    {
     "data": {
      "text/plain": "(6084, 21)"
     },
     "execution_count": 54,
     "metadata": {},
     "output_type": "execute_result"
    }
   ],
   "source": [
    "X = mushroom.drop('Odor', axis=1)\n",
    "y = mushroom[['Odor']]\n",
    "\n",
    "X_train, X_test, y_train, y_test = train_test_split(X, y, test_size=.25, random_state=42)\n",
    "X_train.shape"
   ],
   "metadata": {
    "collapsed": false,
    "pycharm": {
     "name": "#%%\n"
    }
   }
  },
  {
   "cell_type": "code",
   "execution_count": 55,
   "outputs": [
    {
     "data": {
      "text/plain": "'X train'"
     },
     "metadata": {},
     "output_type": "display_data"
    },
    {
     "data": {
      "text/plain": "array([[1., 4., 2., ..., 7., 4., 1.],\n       [1., 4., 3., ..., 7., 4., 6.],\n       [0., 2., 2., ..., 0., 4., 6.],\n       ...,\n       [0., 3., 2., ..., 1., 5., 3.],\n       [0., 0., 3., ..., 7., 3., 0.],\n       [0., 4., 0., ..., 7., 2., 0.]])"
     },
     "metadata": {},
     "output_type": "display_data"
    },
    {
     "data": {
      "text/plain": "'y train'"
     },
     "metadata": {},
     "output_type": "display_data"
    },
    {
     "data": {
      "text/plain": "array([[3.],\n       [3.],\n       [6.],\n       ...,\n       [1.],\n       [6.],\n       [6.]])"
     },
     "metadata": {},
     "output_type": "display_data"
    }
   ],
   "source": [
    "# Preprocessing the training data\n",
    "\n",
    "ordinal_X = OrdinalEncoder()\n",
    "X_train = ordinal_X.fit_transform(X_train)\n",
    "\n",
    "ordinal_y = OrdinalEncoder()\n",
    "y_train = ordinal_y.fit_transform((y_train))\n",
    "\n",
    "display('X train', X_train, 'y train', y_train)\n"
   ],
   "metadata": {
    "collapsed": false,
    "pycharm": {
     "name": "#%%\n"
    }
   }
  },
  {
   "cell_type": "code",
   "execution_count": 56,
   "outputs": [
    {
     "data": {
      "text/plain": "'X test'"
     },
     "metadata": {},
     "output_type": "display_data"
    },
    {
     "data": {
      "text/plain": "array([[0., 3., 0., ..., 1., 4., 6.],\n       [0., 2., 0., ..., 1., 4., 6.],\n       [0., 2., 3., ..., 1., 4., 1.],\n       ...,\n       [1., 3., 2., ..., 7., 1., 6.],\n       [0., 0., 3., ..., 1., 1., 1.],\n       [0., 2., 2., ..., 0., 5., 6.]])"
     },
     "metadata": {},
     "output_type": "display_data"
    },
    {
     "data": {
      "text/plain": "'y test'"
     },
     "metadata": {},
     "output_type": "display_data"
    },
    {
     "data": {
      "text/plain": "array([[6.],\n       [1.],\n       [6.],\n       ...,\n       [5.],\n       [6.],\n       [6.]])"
     },
     "metadata": {},
     "output_type": "display_data"
    }
   ],
   "source": [
    "# preprocess the test data\n",
    "\n",
    "X_test = ordinal_X.transform(X_test)\n",
    "\n",
    "y_test = ordinal_y.transform(y_test)\n",
    "\n",
    "display('X test', X_test, 'y test', y_test)"
   ],
   "metadata": {
    "collapsed": false,
    "pycharm": {
     "name": "#%%\n"
    }
   }
  },
  {
   "cell_type": "code",
   "execution_count": 57,
   "outputs": [
    {
     "data": {
      "text/plain": "(array([3., 3., 6., ..., 1., 6., 6.]), array([6., 1., 6., ..., 5., 6., 6.]))"
     },
     "execution_count": 57,
     "metadata": {},
     "output_type": "execute_result"
    }
   ],
   "source": [
    "# make y_train and y_test one dimensional for random forest classifier\n",
    "\n",
    "y_train = np.concatenate(y_train).ravel()\n",
    "y_test = np.concatenate(y_test).ravel()\n",
    "y_train, y_test"
   ],
   "metadata": {
    "collapsed": false,
    "pycharm": {
     "name": "#%%\n"
    }
   }
  },
  {
   "cell_type": "code",
   "execution_count": 7,
   "outputs": [
    {
     "data": {
      "text/plain": "GridSearchCV(cv=5, estimator=RandomForestClassifier(random_state=42),\n             param_grid={})",
      "text/html": "<style>div.sk-top-container {color: black;background-color: white;}div.sk-toggleable {background-color: white;}label.sk-toggleable__label {cursor: pointer;display: block;width: 100%;margin-bottom: 0;padding: 0.2em 0.3em;box-sizing: border-box;text-align: center;}div.sk-toggleable__content {max-height: 0;max-width: 0;overflow: hidden;text-align: left;background-color: #f0f8ff;}div.sk-toggleable__content pre {margin: 0.2em;color: black;border-radius: 0.25em;background-color: #f0f8ff;}input.sk-toggleable__control:checked~div.sk-toggleable__content {max-height: 200px;max-width: 100%;overflow: auto;}div.sk-estimator input.sk-toggleable__control:checked~label.sk-toggleable__label {background-color: #d4ebff;}div.sk-label input.sk-toggleable__control:checked~label.sk-toggleable__label {background-color: #d4ebff;}input.sk-hidden--visually {border: 0;clip: rect(1px 1px 1px 1px);clip: rect(1px, 1px, 1px, 1px);height: 1px;margin: -1px;overflow: hidden;padding: 0;position: absolute;width: 1px;}div.sk-estimator {font-family: monospace;background-color: #f0f8ff;margin: 0.25em 0.25em;border: 1px dotted black;border-radius: 0.25em;box-sizing: border-box;}div.sk-estimator:hover {background-color: #d4ebff;}div.sk-parallel-item::after {content: \"\";width: 100%;border-bottom: 1px solid gray;flex-grow: 1;}div.sk-label:hover label.sk-toggleable__label {background-color: #d4ebff;}div.sk-serial::before {content: \"\";position: absolute;border-left: 1px solid gray;box-sizing: border-box;top: 2em;bottom: 0;left: 50%;}div.sk-serial {display: flex;flex-direction: column;align-items: center;background-color: white;}div.sk-item {z-index: 1;}div.sk-parallel {display: flex;align-items: stretch;justify-content: center;background-color: white;}div.sk-parallel-item {display: flex;flex-direction: column;position: relative;background-color: white;}div.sk-parallel-item:first-child::after {align-self: flex-end;width: 50%;}div.sk-parallel-item:last-child::after {align-self: flex-start;width: 50%;}div.sk-parallel-item:only-child::after {width: 0;}div.sk-dashed-wrapped {border: 1px dashed gray;margin: 0.2em;box-sizing: border-box;padding-bottom: 0.1em;background-color: white;position: relative;}div.sk-label label {font-family: monospace;font-weight: bold;background-color: white;display: inline-block;line-height: 1.2em;}div.sk-label-container {position: relative;z-index: 2;text-align: center;}div.sk-container {display: inline-block;position: relative;}</style><div class=\"sk-top-container\"><div class=\"sk-container\"><div class=\"sk-item sk-dashed-wrapped\"><div class=\"sk-label-container\"><div class=\"sk-label sk-toggleable\"><input class=\"sk-toggleable__control sk-hidden--visually\" id=\"a0b41771-adb9-4d2b-b907-4da104310506\" type=\"checkbox\" ><label class=\"sk-toggleable__label\" for=\"a0b41771-adb9-4d2b-b907-4da104310506\">GridSearchCV</label><div class=\"sk-toggleable__content\"><pre>GridSearchCV(cv=5, estimator=RandomForestClassifier(random_state=42),\n             param_grid={})</pre></div></div></div><div class=\"sk-parallel\"><div class=\"sk-parallel-item\"><div class=\"sk-item\"><div class=\"sk-serial\"><div class=\"sk-item\"><div class=\"sk-estimator sk-toggleable\"><input class=\"sk-toggleable__control sk-hidden--visually\" id=\"91a08329-a8e3-4a0c-8cdd-2069a008df1b\" type=\"checkbox\" ><label class=\"sk-toggleable__label\" for=\"91a08329-a8e3-4a0c-8cdd-2069a008df1b\">RandomForestClassifier</label><div class=\"sk-toggleable__content\"><pre>RandomForestClassifier(random_state=42)</pre></div></div></div></div></div></div></div></div></div></div>"
     },
     "execution_count": 7,
     "metadata": {},
     "output_type": "execute_result"
    }
   ],
   "source": [
    "# run data on Decision Tree Classifier\n",
    "\n",
    "rf_grid = GridSearchCV(RandomForestClassifier(random_state=42), {}, cv=5)\n",
    "rf_grid.fit(X_train, y_train)"
   ],
   "metadata": {
    "collapsed": false,
    "pycharm": {
     "name": "#%%\n"
    }
   }
  },
  {
   "cell_type": "code",
   "execution_count": 8,
   "outputs": [
    {
     "name": "stdout",
     "output_type": "stream",
     "text": [
      "train score 0.7281393255632919\n",
      "test score 0.6962524654832347\n",
      "std dev 0.006159606539859663\n"
     ]
    }
   ],
   "source": [
    "print('train score', rf_grid.best_score_)\n",
    "print('test score', rf_grid.score(X_test, y_test))\n",
    "print('std dev', rf_grid.cv_results_['std_test_score'][rf_grid.best_index_])"
   ],
   "metadata": {
    "collapsed": false,
    "pycharm": {
     "name": "#%%\n"
    }
   }
  },
  {
   "cell_type": "markdown",
   "source": [
    "This means we are overfitting our dataset and need to perform some hyperparameter tuning to reduce this overfit\n"
   ],
   "metadata": {
    "collapsed": false,
    "pycharm": {
     "name": "#%% md\n"
    }
   }
  },
  {
   "cell_type": "code",
   "execution_count": 9,
   "outputs": [],
   "source": [
    "# higher estimators reduces variance,\n",
    "# higher min samples will also reduce overfit\n",
    "# smaller number of max featuers will reduce overfit\n",
    "\n",
    "rf_param_grid = {\n",
    "    'n_estimators':[250, 500],\n",
    "     'max_features':['log2', 'sqrt'],\n",
    "     'min_samples_leaf':[175, 200, 500, 1000]\n",
    "}"
   ],
   "metadata": {
    "collapsed": false,
    "pycharm": {
     "name": "#%%\n"
    }
   }
  },
  {
   "cell_type": "code",
   "execution_count": 10,
   "outputs": [
    {
     "data": {
      "text/plain": "RandomizedSearchCV(cv=5, estimator=RandomForestClassifier(random_state=42),\n                   param_distributions={'max_features': ['log2', 'sqrt'],\n                                        'min_samples_leaf': [175, 200, 500,\n                                                             1000],\n                                        'n_estimators': [250, 500]},\n                   random_state=42)",
      "text/html": "<style>div.sk-top-container {color: black;background-color: white;}div.sk-toggleable {background-color: white;}label.sk-toggleable__label {cursor: pointer;display: block;width: 100%;margin-bottom: 0;padding: 0.2em 0.3em;box-sizing: border-box;text-align: center;}div.sk-toggleable__content {max-height: 0;max-width: 0;overflow: hidden;text-align: left;background-color: #f0f8ff;}div.sk-toggleable__content pre {margin: 0.2em;color: black;border-radius: 0.25em;background-color: #f0f8ff;}input.sk-toggleable__control:checked~div.sk-toggleable__content {max-height: 200px;max-width: 100%;overflow: auto;}div.sk-estimator input.sk-toggleable__control:checked~label.sk-toggleable__label {background-color: #d4ebff;}div.sk-label input.sk-toggleable__control:checked~label.sk-toggleable__label {background-color: #d4ebff;}input.sk-hidden--visually {border: 0;clip: rect(1px 1px 1px 1px);clip: rect(1px, 1px, 1px, 1px);height: 1px;margin: -1px;overflow: hidden;padding: 0;position: absolute;width: 1px;}div.sk-estimator {font-family: monospace;background-color: #f0f8ff;margin: 0.25em 0.25em;border: 1px dotted black;border-radius: 0.25em;box-sizing: border-box;}div.sk-estimator:hover {background-color: #d4ebff;}div.sk-parallel-item::after {content: \"\";width: 100%;border-bottom: 1px solid gray;flex-grow: 1;}div.sk-label:hover label.sk-toggleable__label {background-color: #d4ebff;}div.sk-serial::before {content: \"\";position: absolute;border-left: 1px solid gray;box-sizing: border-box;top: 2em;bottom: 0;left: 50%;}div.sk-serial {display: flex;flex-direction: column;align-items: center;background-color: white;}div.sk-item {z-index: 1;}div.sk-parallel {display: flex;align-items: stretch;justify-content: center;background-color: white;}div.sk-parallel-item {display: flex;flex-direction: column;position: relative;background-color: white;}div.sk-parallel-item:first-child::after {align-self: flex-end;width: 50%;}div.sk-parallel-item:last-child::after {align-self: flex-start;width: 50%;}div.sk-parallel-item:only-child::after {width: 0;}div.sk-dashed-wrapped {border: 1px dashed gray;margin: 0.2em;box-sizing: border-box;padding-bottom: 0.1em;background-color: white;position: relative;}div.sk-label label {font-family: monospace;font-weight: bold;background-color: white;display: inline-block;line-height: 1.2em;}div.sk-label-container {position: relative;z-index: 2;text-align: center;}div.sk-container {display: inline-block;position: relative;}</style><div class=\"sk-top-container\"><div class=\"sk-container\"><div class=\"sk-item sk-dashed-wrapped\"><div class=\"sk-label-container\"><div class=\"sk-label sk-toggleable\"><input class=\"sk-toggleable__control sk-hidden--visually\" id=\"2d2a4756-6f0b-4b53-979c-85dbda170379\" type=\"checkbox\" ><label class=\"sk-toggleable__label\" for=\"2d2a4756-6f0b-4b53-979c-85dbda170379\">RandomizedSearchCV</label><div class=\"sk-toggleable__content\"><pre>RandomizedSearchCV(cv=5, estimator=RandomForestClassifier(random_state=42),\n                   param_distributions={'max_features': ['log2', 'sqrt'],\n                                        'min_samples_leaf': [175, 200, 500,\n                                                             1000],\n                                        'n_estimators': [250, 500]},\n                   random_state=42)</pre></div></div></div><div class=\"sk-parallel\"><div class=\"sk-parallel-item\"><div class=\"sk-item\"><div class=\"sk-serial\"><div class=\"sk-item\"><div class=\"sk-estimator sk-toggleable\"><input class=\"sk-toggleable__control sk-hidden--visually\" id=\"42df5dae-03b4-439a-9661-8aabc3eaacc0\" type=\"checkbox\" ><label class=\"sk-toggleable__label\" for=\"42df5dae-03b4-439a-9661-8aabc3eaacc0\">RandomForestClassifier</label><div class=\"sk-toggleable__content\"><pre>RandomForestClassifier(random_state=42)</pre></div></div></div></div></div></div></div></div></div></div>"
     },
     "execution_count": 10,
     "metadata": {},
     "output_type": "execute_result"
    }
   ],
   "source": [
    "# rf_grid2 = GridSearchCV(RandomForestClassifier(random_state=42), rf_param_grid, cv=5)\n",
    "# rf_grid2.fit(X_train, y_train)\n",
    "rf_grid2 = RandomizedSearchCV(RandomForestClassifier(random_state=42), rf_param_grid, cv=5, random_state=42)\n",
    "rf_grid2.fit(X_train, y_train)"
   ],
   "metadata": {
    "collapsed": false,
    "pycharm": {
     "name": "#%%\n"
    }
   }
  },
  {
   "cell_type": "code",
   "execution_count": 11,
   "outputs": [
    {
     "name": "stdout",
     "output_type": "stream",
     "text": [
      "train score 0.7596985414954807\n",
      "test score 0.7731755424063116\n",
      "std dev 0.004702713080633196\n"
     ]
    }
   ],
   "source": [
    "print('train score', rf_grid2.best_score_)\n",
    "print('test score', rf_grid2.score(X_test, y_test))\n",
    "print('std dev', rf_grid2.cv_results_['std_test_score'][rf_grid2.best_index_])"
   ],
   "metadata": {
    "collapsed": false,
    "pycharm": {
     "name": "#%%\n"
    }
   }
  },
  {
   "cell_type": "code",
   "execution_count": 12,
   "outputs": [
    {
     "data": {
      "text/plain": "{'n_estimators': 250, 'min_samples_leaf': 175, 'max_features': 'log2'}"
     },
     "execution_count": 12,
     "metadata": {},
     "output_type": "execute_result"
    }
   ],
   "source": [
    "rf_grid2.best_params_"
   ],
   "metadata": {
    "collapsed": false,
    "pycharm": {
     "name": "#%%\n"
    }
   }
  },
  {
   "cell_type": "code",
   "execution_count": 59,
   "outputs": [
    {
     "name": "stdout",
     "output_type": "stream",
     "text": [
      "Confusion Matrix \n",
      " [[ 58  67   0   0   0   0   0   0   0]\n",
      " [ 17  10   0   0   0   0   0   0   0]\n",
      " [  0   0  50   0   0   0   0   0   0]\n",
      " [  0   0   0   0   0   0   0   0   0]\n",
      " [  0   0   0 149 519  11   9   0 134]\n",
      " [  0   0   0   0   0   0   0   0   0]\n",
      " [ 27  33   0   0   0   0 852   0   0]\n",
      " [  0   0   0   0   0   0   0  76   0]\n",
      " [  0   0   0   4   9   0   0   0   3]] \n",
      "\n",
      "Accuracy Score \n",
      " 0.7731755424063116 \n",
      "\n",
      "Classification Report \n",
      "               precision    recall  f1-score   support\n",
      "\n",
      "         0.0       0.57      0.46      0.51       125\n",
      "         1.0       0.09      0.37      0.15        27\n",
      "         2.0       1.00      1.00      1.00        50\n",
      "         3.0       0.00      0.00      0.00         0\n",
      "         4.0       0.98      0.63      0.77       822\n",
      "         5.0       0.00      0.00      0.00         0\n",
      "         6.0       0.99      0.93      0.96       912\n",
      "         7.0       1.00      1.00      1.00        76\n",
      "         8.0       0.02      0.19      0.04        16\n",
      "\n",
      "    accuracy                           0.77      2028\n",
      "   macro avg       0.52      0.51      0.49      2028\n",
      "weighted avg       0.94      0.77      0.84      2028\n",
      "\n"
     ]
    },
    {
     "name": "stderr",
     "output_type": "stream",
     "text": [
      "/home/wkc/.local/lib/python3.8/site-packages/sklearn/metrics/_classification.py:1245: UndefinedMetricWarning: Recall and F-score are ill-defined and being set to 0.0 in labels with no true samples. Use `zero_division` parameter to control this behavior.\n",
      "  _warn_prf(average, modifier, msg_start, len(result))\n",
      "/home/wkc/.local/lib/python3.8/site-packages/sklearn/metrics/_classification.py:1245: UndefinedMetricWarning: Recall and F-score are ill-defined and being set to 0.0 in labels with no true samples. Use `zero_division` parameter to control this behavior.\n",
      "  _warn_prf(average, modifier, msg_start, len(result))\n",
      "/home/wkc/.local/lib/python3.8/site-packages/sklearn/metrics/_classification.py:1245: UndefinedMetricWarning: Recall and F-score are ill-defined and being set to 0.0 in labels with no true samples. Use `zero_division` parameter to control this behavior.\n",
      "  _warn_prf(average, modifier, msg_start, len(result))\n"
     ]
    }
   ],
   "source": [
    "print('Confusion Matrix \\n',confusion_matrix(rf_grid2.predict(X_test),y_test), '\\n')\n",
    "print('Accuracy Score \\n', rf_grid2.score(X_test, y_test), '\\n')\n",
    "print('Classification Report \\n',classification_report(rf_grid2.predict(X_test),y_test))\n"
   ],
   "metadata": {
    "collapsed": false,
    "pycharm": {
     "name": "#%%\n"
    }
   }
  },
  {
   "cell_type": "code",
   "execution_count": 77,
   "outputs": [
    {
     "name": "stdout",
     "output_type": "stream",
     "text": [
      "0 almond\n",
      "1 anise\n",
      "2 creosote\n",
      "3 fishy\n",
      "4 foul\n",
      "5 musty\n",
      "6 none\n",
      "7 pungent\n",
      "8 spicy\n"
     ]
    }
   ],
   "source": [
    "# to aid in deciphering confusion matrix\n",
    "for num, odor in enumerate(ordinal_y.categories_[:][0].tolist()):\n",
    "    print(num, odor)"
   ],
   "metadata": {
    "collapsed": false,
    "pycharm": {
     "name": "#%%\n"
    }
   }
  },
  {
   "cell_type": "code",
   "execution_count": 86,
   "outputs": [
    {
     "data": {
      "text/plain": "Class                       0.240646\nSpore-Print-Color           0.122426\nGill-Size                   0.081778\nRing-Type                   0.063429\nStalk-Shape                 0.055286\nCap-Color                   0.052545\nStalk-Color-Above-Ring      0.047043\nStalk-Color-Below-Ring      0.044781\nStalk-Surface-Below-Ring    0.044467\nStalk-Root                  0.044097\nPopulation                  0.035879\nStalk-Surface-Above-Ring    0.035127\nBruises                     0.030531\nGill-Spacing                0.028306\nHabitat                     0.024324\nGill-Color                  0.020235\nRing-Number                 0.015766\nCap-Surface                 0.009843\nCap-Shape                   0.003490\nVeil-Color                  0.000000\nGill-Attachment             0.000000\ndtype: float64"
     },
     "execution_count": 86,
     "metadata": {},
     "output_type": "execute_result"
    }
   ],
   "source": [
    "pd.Series(rf_grid2.best_estimator_.feature_importances_, index=X.columns).sort_values(ascending=False)"
   ],
   "metadata": {
    "collapsed": false,
    "pycharm": {
     "name": "#%%\n"
    }
   }
  },
  {
   "cell_type": "markdown",
   "source": [
    "## Evaluation\n",
    "With hyperaparemter tuning we were better able to predict odors of a mushroom from its features. The tuned forest\n",
    "yielded a much better accuracy fit with a 1% difference and better performance than the untuned random forest classifier.\n",
    "Also it did not overfit like the untune forest classifier.\n",
    "\n",
    "Also from the confusion matrix it appears that our model does a poot job in precision of anise and spicy odors\n",
    "It also appears that fishy and musty odors are not included in our dataset.\n",
    "Our model does a very accurate job in precision and recall for fishy, none, and pungent smells. It odes a moderate job\n",
    "for almond smells.\n",
    "\n",
    "Overally the accuracy of our model yeilds a score of .77 which is strong score.\n",
    "\n",
    "Last the features that were regarded as most important in predicting our model were class, which was edibility of mushroom,\n",
    "spore-print color, Gill-size, Ring-Type, and Stalk-shape\n",
    "\n",
    "From datacamp, the methods used such as Random Forest Classifer as well as hypertuning, came from the\n",
    "'Machine Learning with Tree-Based Models in Python' course."
   ],
   "metadata": {
    "collapsed": false
   }
  },
  {
   "cell_type": "markdown",
   "source": [
    "## Second Question\n",
    "### Use clustering to learn hidden patterns from the mushroom dataset\n",
    "### Using same dataset as First Question"
   ],
   "metadata": {
    "collapsed": false,
    "pycharm": {
     "name": "#%% md\n"
    }
   }
  },
  {
   "cell_type": "code",
   "execution_count": 14,
   "outputs": [],
   "source": [
    "# # label encode our dataset before using a random forest regressor for it\n",
    "#\n",
    "# processor = Pipeline([\n",
    "#     ('processing', ColumnTransformer([('ordinal', OrdinalEncoder(), ['Gender']),\n",
    "#                                       ('spending_group_encoder', OrdinalEncoder(categories=[['low', 'medium', 'high']]), ['SpendingGroup']),\n",
    "#                                       ], remainder='passthrough')),\n",
    "# ])\n",
    "#\n",
    "# processor\n",
    "#"
   ],
   "metadata": {
    "collapsed": false,
    "pycharm": {
     "name": "#%%\n"
    }
   }
  },
  {
   "cell_type": "code",
   "execution_count": 15,
   "outputs": [],
   "source": [
    "# X = processor.fit_transform(customer)"
   ],
   "metadata": {
    "collapsed": false,
    "pycharm": {
     "name": "#%%\n"
    }
   }
  }
 ],
 "metadata": {
  "kernelspec": {
   "display_name": "Python 3",
   "language": "python",
   "name": "python3"
  },
  "language_info": {
   "codemirror_mode": {
    "name": "ipython",
    "version": 2
   },
   "file_extension": ".py",
   "mimetype": "text/x-python",
   "name": "python",
   "nbconvert_exporter": "python",
   "pygments_lexer": "ipython2",
   "version": "2.7.6"
  }
 },
 "nbformat": 4,
 "nbformat_minor": 0
}