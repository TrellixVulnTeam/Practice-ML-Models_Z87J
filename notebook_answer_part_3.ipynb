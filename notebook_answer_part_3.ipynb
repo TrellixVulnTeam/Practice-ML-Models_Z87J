{
 "cells": [
  {
   "cell_type": "markdown",
   "metadata": {
    "collapsed": true,
    "pycharm": {
     "name": "#%% md\n"
    }
   },
   "source": [
    "## Problem 3\n",
    "* Dataset used will be from Course Project, but will perform different question not used in course project\n",
    "* the first question will be a classical question to see whether I can predict Odor from the predictor variables\n",
    "* the second question will deal with unsupervised learning and see whether I can learn hidden patterns from the\n",
    "mushroom categories themselves\n",
    "* Evaluation and reference to which datacamp course was used will be documented in the notebook after each trial run"
   ]
  },
  {
   "cell_type": "code",
   "execution_count": 1,
   "outputs": [],
   "source": [
    "# Import packages\n",
    "\n",
    "import pandas as pd\n",
    "import numpy as np\n",
    "import matplotlib.pyplot as plt\n",
    "from IPython.core.display import display\n",
    "import seaborn as sns\n",
    "\n",
    "from scipy import stats\n",
    "from sklearn.preprocessing import LabelEncoder, OneHotEncoder, OrdinalEncoder\n",
    "from sklearn.pipeline import Pipeline\n",
    "from sklearn.ensemble import RandomForestClassifier\n",
    "from sklearn.model_selection import train_test_split, GridSearchCV, RandomizedSearchCV\n",
    "from sklearn.neighbors import KNeighborsClassifier\n",
    "from sklearn.tree import DecisionTreeClassifier\n",
    "from sklearn.neighbors import KNeighborsClassifier\n",
    "from sklearn.linear_model import LinearRegression, LogisticRegression\n",
    "from sklearn.svm import SVR\n",
    "from sklearn.preprocessing import StandardScaler, OrdinalEncoder, OneHotEncoder\n",
    "from sklearn.cluster import KMeans, AgglomerativeClustering\n",
    "from sklearn.compose import ColumnTransformer\n",
    "from sklearn.metrics import confusion_matrix, plot_confusion_matrix, accuracy_score, classification_report\n",
    "import plotly.express as px\n",
    "from kmodes.kmodes import KModes\n",
    "\n",
    "from scipy.cluster.hierarchy import linkage, dendrogram, cut_tree\n",
    "import joblib\n",
    "\n",
    "from sklearn import set_config\n",
    "sns.set_palette('Set2')\n",
    "set_config(display='diagram')\n",
    "\n",
    "from yellowbrick.cluster import KElbowVisualizer\n"
   ],
   "metadata": {
    "collapsed": false,
    "pycharm": {
     "name": "#%%\n"
    }
   }
  },
  {
   "cell_type": "markdown",
   "source": [
    "## First Question:\n",
    "### Predict the odor of mushroom from its predictor variables (different from course project which predicts edibility)\n",
    "### Classification methods will be used\n",
    "### Dataset: Mushroom edibility, source: from https://archive.ics.uci.edu/ml/datasets/mushroom\n",
    "* imported dataset will be already cleaned from course project"
   ],
   "metadata": {
    "collapsed": false,
    "pycharm": {
     "name": "#%% md\n"
    }
   }
  },
  {
   "cell_type": "code",
   "execution_count": 2,
   "outputs": [
    {
     "data": {
      "text/plain": "       Class Cap-Shape Cap-Surface Cap-Color  Bruises     Odor  \\\n0  poisonous    convex      smooth     brown  bruises  pungent   \n1     edible    convex      smooth    yellow  bruises   almond   \n2     edible      bell      smooth     white  bruises    anise   \n3  poisonous    convex       scaly     white  bruises  pungent   \n4     edible    convex      smooth      gray       no     none   \n\n  Gill-Attachment Gill-Spacing Gill-Size Gill-Color  ...  \\\n0            free        close    narrow      black  ...   \n1            free        close     broad      black  ...   \n2            free        close     broad      brown  ...   \n3            free        close    narrow      brown  ...   \n4            free      crowded     broad      black  ...   \n\n  Stalk-Surface-Above-Ring Stalk-Surface-Below-Ring Stalk-Color-Above-Ring  \\\n0                   smooth                   smooth                  white   \n1                   smooth                   smooth                  white   \n2                   smooth                   smooth                  white   \n3                   smooth                   smooth                  white   \n4                   smooth                   smooth                  white   \n\n  Stalk-Color-Below-Ring Veil-Color Ring-Number   Ring-Type Spore-Print-Color  \\\n0                  white      white         one     pendant             black   \n1                  white      white         one     pendant             brown   \n2                  white      white         one     pendant             brown   \n3                  white      white         one     pendant             black   \n4                  white      white         one  evanescent             brown   \n\n  Population  Habitat  \n0  scattered    urban  \n1   numerous  grasses  \n2   numerous  meadows  \n3  scattered    urban  \n4   abundant  grasses  \n\n[5 rows x 22 columns]",
      "text/html": "<div>\n<style scoped>\n    .dataframe tbody tr th:only-of-type {\n        vertical-align: middle;\n    }\n\n    .dataframe tbody tr th {\n        vertical-align: top;\n    }\n\n    .dataframe thead th {\n        text-align: right;\n    }\n</style>\n<table border=\"1\" class=\"dataframe\">\n  <thead>\n    <tr style=\"text-align: right;\">\n      <th></th>\n      <th>Class</th>\n      <th>Cap-Shape</th>\n      <th>Cap-Surface</th>\n      <th>Cap-Color</th>\n      <th>Bruises</th>\n      <th>Odor</th>\n      <th>Gill-Attachment</th>\n      <th>Gill-Spacing</th>\n      <th>Gill-Size</th>\n      <th>Gill-Color</th>\n      <th>...</th>\n      <th>Stalk-Surface-Above-Ring</th>\n      <th>Stalk-Surface-Below-Ring</th>\n      <th>Stalk-Color-Above-Ring</th>\n      <th>Stalk-Color-Below-Ring</th>\n      <th>Veil-Color</th>\n      <th>Ring-Number</th>\n      <th>Ring-Type</th>\n      <th>Spore-Print-Color</th>\n      <th>Population</th>\n      <th>Habitat</th>\n    </tr>\n  </thead>\n  <tbody>\n    <tr>\n      <th>0</th>\n      <td>poisonous</td>\n      <td>convex</td>\n      <td>smooth</td>\n      <td>brown</td>\n      <td>bruises</td>\n      <td>pungent</td>\n      <td>free</td>\n      <td>close</td>\n      <td>narrow</td>\n      <td>black</td>\n      <td>...</td>\n      <td>smooth</td>\n      <td>smooth</td>\n      <td>white</td>\n      <td>white</td>\n      <td>white</td>\n      <td>one</td>\n      <td>pendant</td>\n      <td>black</td>\n      <td>scattered</td>\n      <td>urban</td>\n    </tr>\n    <tr>\n      <th>1</th>\n      <td>edible</td>\n      <td>convex</td>\n      <td>smooth</td>\n      <td>yellow</td>\n      <td>bruises</td>\n      <td>almond</td>\n      <td>free</td>\n      <td>close</td>\n      <td>broad</td>\n      <td>black</td>\n      <td>...</td>\n      <td>smooth</td>\n      <td>smooth</td>\n      <td>white</td>\n      <td>white</td>\n      <td>white</td>\n      <td>one</td>\n      <td>pendant</td>\n      <td>brown</td>\n      <td>numerous</td>\n      <td>grasses</td>\n    </tr>\n    <tr>\n      <th>2</th>\n      <td>edible</td>\n      <td>bell</td>\n      <td>smooth</td>\n      <td>white</td>\n      <td>bruises</td>\n      <td>anise</td>\n      <td>free</td>\n      <td>close</td>\n      <td>broad</td>\n      <td>brown</td>\n      <td>...</td>\n      <td>smooth</td>\n      <td>smooth</td>\n      <td>white</td>\n      <td>white</td>\n      <td>white</td>\n      <td>one</td>\n      <td>pendant</td>\n      <td>brown</td>\n      <td>numerous</td>\n      <td>meadows</td>\n    </tr>\n    <tr>\n      <th>3</th>\n      <td>poisonous</td>\n      <td>convex</td>\n      <td>scaly</td>\n      <td>white</td>\n      <td>bruises</td>\n      <td>pungent</td>\n      <td>free</td>\n      <td>close</td>\n      <td>narrow</td>\n      <td>brown</td>\n      <td>...</td>\n      <td>smooth</td>\n      <td>smooth</td>\n      <td>white</td>\n      <td>white</td>\n      <td>white</td>\n      <td>one</td>\n      <td>pendant</td>\n      <td>black</td>\n      <td>scattered</td>\n      <td>urban</td>\n    </tr>\n    <tr>\n      <th>4</th>\n      <td>edible</td>\n      <td>convex</td>\n      <td>smooth</td>\n      <td>gray</td>\n      <td>no</td>\n      <td>none</td>\n      <td>free</td>\n      <td>crowded</td>\n      <td>broad</td>\n      <td>black</td>\n      <td>...</td>\n      <td>smooth</td>\n      <td>smooth</td>\n      <td>white</td>\n      <td>white</td>\n      <td>white</td>\n      <td>one</td>\n      <td>evanescent</td>\n      <td>brown</td>\n      <td>abundant</td>\n      <td>grasses</td>\n    </tr>\n  </tbody>\n</table>\n<p>5 rows × 22 columns</p>\n</div>"
     },
     "execution_count": 2,
     "metadata": {},
     "output_type": "execute_result"
    }
   ],
   "source": [
    "# import dataset\n",
    "mushroom = pd.read_csv('data/mushroom_imputed_2_adj.csv')\n",
    "mushroom.head()"
   ],
   "metadata": {
    "collapsed": false,
    "pycharm": {
     "name": "#%%\n"
    }
   }
  },
  {
   "cell_type": "code",
   "execution_count": 54,
   "outputs": [
    {
     "data": {
      "text/plain": "(6084, 21)"
     },
     "execution_count": 54,
     "metadata": {},
     "output_type": "execute_result"
    }
   ],
   "source": [
    "X = mushroom.drop('Odor', axis=1)\n",
    "y = mushroom[['Odor']]\n",
    "\n",
    "X_train, X_test, y_train, y_test = train_test_split(X, y, test_size=.25, random_state=42)\n",
    "X_train.shape"
   ],
   "metadata": {
    "collapsed": false,
    "pycharm": {
     "name": "#%%\n"
    }
   }
  },
  {
   "cell_type": "code",
   "execution_count": 55,
   "outputs": [
    {
     "data": {
      "text/plain": "'X train'"
     },
     "metadata": {},
     "output_type": "display_data"
    },
    {
     "data": {
      "text/plain": "array([[1., 4., 2., ..., 7., 4., 1.],\n       [1., 4., 3., ..., 7., 4., 6.],\n       [0., 2., 2., ..., 0., 4., 6.],\n       ...,\n       [0., 3., 2., ..., 1., 5., 3.],\n       [0., 0., 3., ..., 7., 3., 0.],\n       [0., 4., 0., ..., 7., 2., 0.]])"
     },
     "metadata": {},
     "output_type": "display_data"
    },
    {
     "data": {
      "text/plain": "'y train'"
     },
     "metadata": {},
     "output_type": "display_data"
    },
    {
     "data": {
      "text/plain": "array([[3.],\n       [3.],\n       [6.],\n       ...,\n       [1.],\n       [6.],\n       [6.]])"
     },
     "metadata": {},
     "output_type": "display_data"
    }
   ],
   "source": [
    "# Preprocessing the training data\n",
    "\n",
    "ordinal_X = OrdinalEncoder()\n",
    "X_train = ordinal_X.fit_transform(X_train)\n",
    "\n",
    "ordinal_y = OrdinalEncoder()\n",
    "y_train = ordinal_y.fit_transform((y_train))\n",
    "\n",
    "display('X train', X_train, 'y train', y_train)\n"
   ],
   "metadata": {
    "collapsed": false,
    "pycharm": {
     "name": "#%%\n"
    }
   }
  },
  {
   "cell_type": "code",
   "execution_count": 56,
   "outputs": [
    {
     "data": {
      "text/plain": "'X test'"
     },
     "metadata": {},
     "output_type": "display_data"
    },
    {
     "data": {
      "text/plain": "array([[0., 3., 0., ..., 1., 4., 6.],\n       [0., 2., 0., ..., 1., 4., 6.],\n       [0., 2., 3., ..., 1., 4., 1.],\n       ...,\n       [1., 3., 2., ..., 7., 1., 6.],\n       [0., 0., 3., ..., 1., 1., 1.],\n       [0., 2., 2., ..., 0., 5., 6.]])"
     },
     "metadata": {},
     "output_type": "display_data"
    },
    {
     "data": {
      "text/plain": "'y test'"
     },
     "metadata": {},
     "output_type": "display_data"
    },
    {
     "data": {
      "text/plain": "array([[6.],\n       [1.],\n       [6.],\n       ...,\n       [5.],\n       [6.],\n       [6.]])"
     },
     "metadata": {},
     "output_type": "display_data"
    }
   ],
   "source": [
    "# preprocess the test data\n",
    "\n",
    "X_test = ordinal_X.transform(X_test)\n",
    "\n",
    "y_test = ordinal_y.transform(y_test)\n",
    "\n",
    "display('X test', X_test, 'y test', y_test)"
   ],
   "metadata": {
    "collapsed": false,
    "pycharm": {
     "name": "#%%\n"
    }
   }
  },
  {
   "cell_type": "code",
   "execution_count": 57,
   "outputs": [
    {
     "data": {
      "text/plain": "(array([3., 3., 6., ..., 1., 6., 6.]), array([6., 1., 6., ..., 5., 6., 6.]))"
     },
     "execution_count": 57,
     "metadata": {},
     "output_type": "execute_result"
    }
   ],
   "source": [
    "# make y_train and y_test one dimensional for random forest classifier\n",
    "\n",
    "y_train = np.concatenate(y_train).ravel()\n",
    "y_test = np.concatenate(y_test).ravel()\n",
    "y_train, y_test"
   ],
   "metadata": {
    "collapsed": false,
    "pycharm": {
     "name": "#%%\n"
    }
   }
  },
  {
   "cell_type": "code",
   "execution_count": 7,
   "outputs": [
    {
     "data": {
      "text/plain": "GridSearchCV(cv=5, estimator=RandomForestClassifier(random_state=42),\n             param_grid={})",
      "text/html": "<style>div.sk-top-container {color: black;background-color: white;}div.sk-toggleable {background-color: white;}label.sk-toggleable__label {cursor: pointer;display: block;width: 100%;margin-bottom: 0;padding: 0.2em 0.3em;box-sizing: border-box;text-align: center;}div.sk-toggleable__content {max-height: 0;max-width: 0;overflow: hidden;text-align: left;background-color: #f0f8ff;}div.sk-toggleable__content pre {margin: 0.2em;color: black;border-radius: 0.25em;background-color: #f0f8ff;}input.sk-toggleable__control:checked~div.sk-toggleable__content {max-height: 200px;max-width: 100%;overflow: auto;}div.sk-estimator input.sk-toggleable__control:checked~label.sk-toggleable__label {background-color: #d4ebff;}div.sk-label input.sk-toggleable__control:checked~label.sk-toggleable__label {background-color: #d4ebff;}input.sk-hidden--visually {border: 0;clip: rect(1px 1px 1px 1px);clip: rect(1px, 1px, 1px, 1px);height: 1px;margin: -1px;overflow: hidden;padding: 0;position: absolute;width: 1px;}div.sk-estimator {font-family: monospace;background-color: #f0f8ff;margin: 0.25em 0.25em;border: 1px dotted black;border-radius: 0.25em;box-sizing: border-box;}div.sk-estimator:hover {background-color: #d4ebff;}div.sk-parallel-item::after {content: \"\";width: 100%;border-bottom: 1px solid gray;flex-grow: 1;}div.sk-label:hover label.sk-toggleable__label {background-color: #d4ebff;}div.sk-serial::before {content: \"\";position: absolute;border-left: 1px solid gray;box-sizing: border-box;top: 2em;bottom: 0;left: 50%;}div.sk-serial {display: flex;flex-direction: column;align-items: center;background-color: white;}div.sk-item {z-index: 1;}div.sk-parallel {display: flex;align-items: stretch;justify-content: center;background-color: white;}div.sk-parallel-item {display: flex;flex-direction: column;position: relative;background-color: white;}div.sk-parallel-item:first-child::after {align-self: flex-end;width: 50%;}div.sk-parallel-item:last-child::after {align-self: flex-start;width: 50%;}div.sk-parallel-item:only-child::after {width: 0;}div.sk-dashed-wrapped {border: 1px dashed gray;margin: 0.2em;box-sizing: border-box;padding-bottom: 0.1em;background-color: white;position: relative;}div.sk-label label {font-family: monospace;font-weight: bold;background-color: white;display: inline-block;line-height: 1.2em;}div.sk-label-container {position: relative;z-index: 2;text-align: center;}div.sk-container {display: inline-block;position: relative;}</style><div class=\"sk-top-container\"><div class=\"sk-container\"><div class=\"sk-item sk-dashed-wrapped\"><div class=\"sk-label-container\"><div class=\"sk-label sk-toggleable\"><input class=\"sk-toggleable__control sk-hidden--visually\" id=\"a0b41771-adb9-4d2b-b907-4da104310506\" type=\"checkbox\" ><label class=\"sk-toggleable__label\" for=\"a0b41771-adb9-4d2b-b907-4da104310506\">GridSearchCV</label><div class=\"sk-toggleable__content\"><pre>GridSearchCV(cv=5, estimator=RandomForestClassifier(random_state=42),\n             param_grid={})</pre></div></div></div><div class=\"sk-parallel\"><div class=\"sk-parallel-item\"><div class=\"sk-item\"><div class=\"sk-serial\"><div class=\"sk-item\"><div class=\"sk-estimator sk-toggleable\"><input class=\"sk-toggleable__control sk-hidden--visually\" id=\"91a08329-a8e3-4a0c-8cdd-2069a008df1b\" type=\"checkbox\" ><label class=\"sk-toggleable__label\" for=\"91a08329-a8e3-4a0c-8cdd-2069a008df1b\">RandomForestClassifier</label><div class=\"sk-toggleable__content\"><pre>RandomForestClassifier(random_state=42)</pre></div></div></div></div></div></div></div></div></div></div>"
     },
     "execution_count": 7,
     "metadata": {},
     "output_type": "execute_result"
    }
   ],
   "source": [
    "# run data on Decision Tree Classifier\n",
    "\n",
    "rf_grid = GridSearchCV(RandomForestClassifier(random_state=42), {}, cv=5)\n",
    "rf_grid.fit(X_train, y_train)"
   ],
   "metadata": {
    "collapsed": false,
    "pycharm": {
     "name": "#%%\n"
    }
   }
  },
  {
   "cell_type": "code",
   "execution_count": 8,
   "outputs": [
    {
     "name": "stdout",
     "output_type": "stream",
     "text": [
      "train score 0.7281393255632919\n",
      "test score 0.6962524654832347\n",
      "std dev 0.006159606539859663\n"
     ]
    }
   ],
   "source": [
    "print('train score', rf_grid.best_score_)\n",
    "print('test score', rf_grid.score(X_test, y_test))\n",
    "print('std dev', rf_grid.cv_results_['std_test_score'][rf_grid.best_index_])"
   ],
   "metadata": {
    "collapsed": false,
    "pycharm": {
     "name": "#%%\n"
    }
   }
  },
  {
   "cell_type": "markdown",
   "source": [
    "This means we are overfitting our dataset and need to perform some hyperparameter tuning to reduce this overfit\n"
   ],
   "metadata": {
    "collapsed": false,
    "pycharm": {
     "name": "#%% md\n"
    }
   }
  },
  {
   "cell_type": "code",
   "execution_count": 9,
   "outputs": [],
   "source": [
    "# higher estimators reduces variance,\n",
    "# higher min samples will also reduce overfit\n",
    "# smaller number of max featuers will reduce overfit\n",
    "\n",
    "rf_param_grid = {\n",
    "    'n_estimators':[250, 500],\n",
    "     'max_features':['log2', 'sqrt'],\n",
    "     'min_samples_leaf':[175, 200, 500, 1000]\n",
    "}"
   ],
   "metadata": {
    "collapsed": false,
    "pycharm": {
     "name": "#%%\n"
    }
   }
  },
  {
   "cell_type": "code",
   "execution_count": 10,
   "outputs": [
    {
     "data": {
      "text/plain": "RandomizedSearchCV(cv=5, estimator=RandomForestClassifier(random_state=42),\n                   param_distributions={'max_features': ['log2', 'sqrt'],\n                                        'min_samples_leaf': [175, 200, 500,\n                                                             1000],\n                                        'n_estimators': [250, 500]},\n                   random_state=42)",
      "text/html": "<style>div.sk-top-container {color: black;background-color: white;}div.sk-toggleable {background-color: white;}label.sk-toggleable__label {cursor: pointer;display: block;width: 100%;margin-bottom: 0;padding: 0.2em 0.3em;box-sizing: border-box;text-align: center;}div.sk-toggleable__content {max-height: 0;max-width: 0;overflow: hidden;text-align: left;background-color: #f0f8ff;}div.sk-toggleable__content pre {margin: 0.2em;color: black;border-radius: 0.25em;background-color: #f0f8ff;}input.sk-toggleable__control:checked~div.sk-toggleable__content {max-height: 200px;max-width: 100%;overflow: auto;}div.sk-estimator input.sk-toggleable__control:checked~label.sk-toggleable__label {background-color: #d4ebff;}div.sk-label input.sk-toggleable__control:checked~label.sk-toggleable__label {background-color: #d4ebff;}input.sk-hidden--visually {border: 0;clip: rect(1px 1px 1px 1px);clip: rect(1px, 1px, 1px, 1px);height: 1px;margin: -1px;overflow: hidden;padding: 0;position: absolute;width: 1px;}div.sk-estimator {font-family: monospace;background-color: #f0f8ff;margin: 0.25em 0.25em;border: 1px dotted black;border-radius: 0.25em;box-sizing: border-box;}div.sk-estimator:hover {background-color: #d4ebff;}div.sk-parallel-item::after {content: \"\";width: 100%;border-bottom: 1px solid gray;flex-grow: 1;}div.sk-label:hover label.sk-toggleable__label {background-color: #d4ebff;}div.sk-serial::before {content: \"\";position: absolute;border-left: 1px solid gray;box-sizing: border-box;top: 2em;bottom: 0;left: 50%;}div.sk-serial {display: flex;flex-direction: column;align-items: center;background-color: white;}div.sk-item {z-index: 1;}div.sk-parallel {display: flex;align-items: stretch;justify-content: center;background-color: white;}div.sk-parallel-item {display: flex;flex-direction: column;position: relative;background-color: white;}div.sk-parallel-item:first-child::after {align-self: flex-end;width: 50%;}div.sk-parallel-item:last-child::after {align-self: flex-start;width: 50%;}div.sk-parallel-item:only-child::after {width: 0;}div.sk-dashed-wrapped {border: 1px dashed gray;margin: 0.2em;box-sizing: border-box;padding-bottom: 0.1em;background-color: white;position: relative;}div.sk-label label {font-family: monospace;font-weight: bold;background-color: white;display: inline-block;line-height: 1.2em;}div.sk-label-container {position: relative;z-index: 2;text-align: center;}div.sk-container {display: inline-block;position: relative;}</style><div class=\"sk-top-container\"><div class=\"sk-container\"><div class=\"sk-item sk-dashed-wrapped\"><div class=\"sk-label-container\"><div class=\"sk-label sk-toggleable\"><input class=\"sk-toggleable__control sk-hidden--visually\" id=\"2d2a4756-6f0b-4b53-979c-85dbda170379\" type=\"checkbox\" ><label class=\"sk-toggleable__label\" for=\"2d2a4756-6f0b-4b53-979c-85dbda170379\">RandomizedSearchCV</label><div class=\"sk-toggleable__content\"><pre>RandomizedSearchCV(cv=5, estimator=RandomForestClassifier(random_state=42),\n                   param_distributions={'max_features': ['log2', 'sqrt'],\n                                        'min_samples_leaf': [175, 200, 500,\n                                                             1000],\n                                        'n_estimators': [250, 500]},\n                   random_state=42)</pre></div></div></div><div class=\"sk-parallel\"><div class=\"sk-parallel-item\"><div class=\"sk-item\"><div class=\"sk-serial\"><div class=\"sk-item\"><div class=\"sk-estimator sk-toggleable\"><input class=\"sk-toggleable__control sk-hidden--visually\" id=\"42df5dae-03b4-439a-9661-8aabc3eaacc0\" type=\"checkbox\" ><label class=\"sk-toggleable__label\" for=\"42df5dae-03b4-439a-9661-8aabc3eaacc0\">RandomForestClassifier</label><div class=\"sk-toggleable__content\"><pre>RandomForestClassifier(random_state=42)</pre></div></div></div></div></div></div></div></div></div></div>"
     },
     "execution_count": 10,
     "metadata": {},
     "output_type": "execute_result"
    }
   ],
   "source": [
    "# rf_grid2 = GridSearchCV(RandomForestClassifier(random_state=42), rf_param_grid, cv=5)\n",
    "# rf_grid2.fit(X_train, y_train)\n",
    "rf_grid2 = RandomizedSearchCV(RandomForestClassifier(random_state=42), rf_param_grid, cv=5, random_state=42)\n",
    "rf_grid2.fit(X_train, y_train)"
   ],
   "metadata": {
    "collapsed": false,
    "pycharm": {
     "name": "#%%\n"
    }
   }
  },
  {
   "cell_type": "code",
   "execution_count": 11,
   "outputs": [
    {
     "name": "stdout",
     "output_type": "stream",
     "text": [
      "train score 0.7596985414954807\n",
      "test score 0.7731755424063116\n",
      "std dev 0.004702713080633196\n"
     ]
    }
   ],
   "source": [
    "print('train score', rf_grid2.best_score_)\n",
    "print('test score', rf_grid2.score(X_test, y_test))\n",
    "print('std dev', rf_grid2.cv_results_['std_test_score'][rf_grid2.best_index_])"
   ],
   "metadata": {
    "collapsed": false,
    "pycharm": {
     "name": "#%%\n"
    }
   }
  },
  {
   "cell_type": "code",
   "execution_count": 12,
   "outputs": [
    {
     "data": {
      "text/plain": "{'n_estimators': 250, 'min_samples_leaf': 175, 'max_features': 'log2'}"
     },
     "execution_count": 12,
     "metadata": {},
     "output_type": "execute_result"
    }
   ],
   "source": [
    "rf_grid2.best_params_"
   ],
   "metadata": {
    "collapsed": false,
    "pycharm": {
     "name": "#%%\n"
    }
   }
  },
  {
   "cell_type": "code",
   "execution_count": 59,
   "outputs": [
    {
     "name": "stdout",
     "output_type": "stream",
     "text": [
      "Confusion Matrix \n",
      " [[ 58  67   0   0   0   0   0   0   0]\n",
      " [ 17  10   0   0   0   0   0   0   0]\n",
      " [  0   0  50   0   0   0   0   0   0]\n",
      " [  0   0   0   0   0   0   0   0   0]\n",
      " [  0   0   0 149 519  11   9   0 134]\n",
      " [  0   0   0   0   0   0   0   0   0]\n",
      " [ 27  33   0   0   0   0 852   0   0]\n",
      " [  0   0   0   0   0   0   0  76   0]\n",
      " [  0   0   0   4   9   0   0   0   3]] \n",
      "\n",
      "Accuracy Score \n",
      " 0.7731755424063116 \n",
      "\n",
      "Classification Report \n",
      "               precision    recall  f1-score   support\n",
      "\n",
      "         0.0       0.57      0.46      0.51       125\n",
      "         1.0       0.09      0.37      0.15        27\n",
      "         2.0       1.00      1.00      1.00        50\n",
      "         3.0       0.00      0.00      0.00         0\n",
      "         4.0       0.98      0.63      0.77       822\n",
      "         5.0       0.00      0.00      0.00         0\n",
      "         6.0       0.99      0.93      0.96       912\n",
      "         7.0       1.00      1.00      1.00        76\n",
      "         8.0       0.02      0.19      0.04        16\n",
      "\n",
      "    accuracy                           0.77      2028\n",
      "   macro avg       0.52      0.51      0.49      2028\n",
      "weighted avg       0.94      0.77      0.84      2028\n",
      "\n"
     ]
    },
    {
     "name": "stderr",
     "output_type": "stream",
     "text": [
      "/home/wkc/.local/lib/python3.8/site-packages/sklearn/metrics/_classification.py:1245: UndefinedMetricWarning: Recall and F-score are ill-defined and being set to 0.0 in labels with no true samples. Use `zero_division` parameter to control this behavior.\n",
      "  _warn_prf(average, modifier, msg_start, len(result))\n",
      "/home/wkc/.local/lib/python3.8/site-packages/sklearn/metrics/_classification.py:1245: UndefinedMetricWarning: Recall and F-score are ill-defined and being set to 0.0 in labels with no true samples. Use `zero_division` parameter to control this behavior.\n",
      "  _warn_prf(average, modifier, msg_start, len(result))\n",
      "/home/wkc/.local/lib/python3.8/site-packages/sklearn/metrics/_classification.py:1245: UndefinedMetricWarning: Recall and F-score are ill-defined and being set to 0.0 in labels with no true samples. Use `zero_division` parameter to control this behavior.\n",
      "  _warn_prf(average, modifier, msg_start, len(result))\n"
     ]
    }
   ],
   "source": [
    "print('Confusion Matrix \\n',confusion_matrix(rf_grid2.predict(X_test),y_test), '\\n')\n",
    "print('Accuracy Score \\n', rf_grid2.score(X_test, y_test), '\\n')\n",
    "print('Classification Report \\n',classification_report(rf_grid2.predict(X_test),y_test))\n"
   ],
   "metadata": {
    "collapsed": false,
    "pycharm": {
     "name": "#%%\n"
    }
   }
  },
  {
   "cell_type": "code",
   "execution_count": 77,
   "outputs": [
    {
     "name": "stdout",
     "output_type": "stream",
     "text": [
      "0 almond\n",
      "1 anise\n",
      "2 creosote\n",
      "3 fishy\n",
      "4 foul\n",
      "5 musty\n",
      "6 none\n",
      "7 pungent\n",
      "8 spicy\n"
     ]
    }
   ],
   "source": [
    "# to aid in deciphering confusion matrix\n",
    "for num, odor in enumerate(ordinal_y.categories_[:][0].tolist()):\n",
    "    print(num, odor)"
   ],
   "metadata": {
    "collapsed": false,
    "pycharm": {
     "name": "#%%\n"
    }
   }
  },
  {
   "cell_type": "code",
   "execution_count": 86,
   "outputs": [
    {
     "data": {
      "text/plain": "Class                       0.240646\nSpore-Print-Color           0.122426\nGill-Size                   0.081778\nRing-Type                   0.063429\nStalk-Shape                 0.055286\nCap-Color                   0.052545\nStalk-Color-Above-Ring      0.047043\nStalk-Color-Below-Ring      0.044781\nStalk-Surface-Below-Ring    0.044467\nStalk-Root                  0.044097\nPopulation                  0.035879\nStalk-Surface-Above-Ring    0.035127\nBruises                     0.030531\nGill-Spacing                0.028306\nHabitat                     0.024324\nGill-Color                  0.020235\nRing-Number                 0.015766\nCap-Surface                 0.009843\nCap-Shape                   0.003490\nVeil-Color                  0.000000\nGill-Attachment             0.000000\ndtype: float64"
     },
     "execution_count": 86,
     "metadata": {},
     "output_type": "execute_result"
    }
   ],
   "source": [
    "pd.Series(rf_grid2.best_estimator_.feature_importances_, index=X.columns).sort_values(ascending=False)"
   ],
   "metadata": {
    "collapsed": false,
    "pycharm": {
     "name": "#%%\n"
    }
   }
  },
  {
   "cell_type": "markdown",
   "source": [
    "## Evaluation\n",
    "With hyperaparemter tuning we were better able to predict odors of a mushroom from its features. The tuned forest\n",
    "yielded a much better accuracy fit with a 1% difference and better performance than the untuned random forest classifier.\n",
    "Also it did not overfit like the untune forest classifier.\n",
    "\n",
    "Also from the confusion matrix it appears that our model does a poot job in precision of anise and spicy odors\n",
    "It also appears that fishy and musty odors are not included in our dataset.\n",
    "Our model does a very accurate job in precision and recall for fishy, none, and pungent smells. It odes a moderate job\n",
    "for almond smells.\n",
    "\n",
    "Overally the accuracy of our model yeilds a score of .77 which is strong score.\n",
    "\n",
    "Last the features that were regarded as most important in predicting our model were class, which was edibility of mushroom,\n",
    "spore-print color, Gill-size, Ring-Type, and Stalk-shape\n",
    "\n",
    "From datacamp, the methods used such as Random Forest Classifer as well as hypertuning, came from the\n",
    "'Machine Learning with Tree-Based Models in Python' course."
   ],
   "metadata": {
    "collapsed": false
   }
  },
  {
   "cell_type": "markdown",
   "source": [
    "## Second Question\n",
    "### Use clustering to learn hidden patterns from the mushroom dataset\n",
    "### Using same dataset as First Question"
   ],
   "metadata": {
    "collapsed": false,
    "pycharm": {
     "name": "#%% md\n"
    }
   }
  },
  {
   "cell_type": "code",
   "execution_count": 22,
   "outputs": [
    {
     "data": {
      "text/plain": "          Class Cap-Shape Cap-Surface Cap-Color  Bruises     Odor  \\\n0     poisonous    convex      smooth     brown  bruises  pungent   \n1        edible    convex      smooth    yellow  bruises   almond   \n2        edible      bell      smooth     white  bruises    anise   \n3     poisonous    convex       scaly     white  bruises  pungent   \n4        edible    convex      smooth      gray       no     none   \n...         ...       ...         ...       ...      ...      ...   \n8107     edible    convex      smooth     brown       no     none   \n8108     edible      flat      smooth     brown       no     none   \n8109  poisonous   knobbed       scaly     brown       no    fishy   \n8110     edible    convex      smooth     brown       no     none   \n8111     edible   knobbed      smooth     white       no     none   \n\n     Gill-Attachment Gill-Spacing Gill-Size Gill-Color  ...  \\\n0               free        close    narrow      black  ...   \n1               free        close     broad      black  ...   \n2               free        close     broad      brown  ...   \n3               free        close    narrow      brown  ...   \n4               free      crowded     broad      black  ...   \n...              ...          ...       ...        ...  ...   \n8107        attached        close     broad     yellow  ...   \n8108        attached        close     broad      brown  ...   \n8109            free        close    narrow       buff  ...   \n8110        attached        close     broad     yellow  ...   \n8111            free      crowded     broad       gray  ...   \n\n     Stalk-Surface-Above-Ring Stalk-Surface-Below-Ring Stalk-Color-Above-Ring  \\\n0                      smooth                   smooth                  white   \n1                      smooth                   smooth                  white   \n2                      smooth                   smooth                  white   \n3                      smooth                   smooth                  white   \n4                      smooth                   smooth                  white   \n...                       ...                      ...                    ...   \n8107                   smooth                   smooth                 orange   \n8108                   smooth                   smooth                 orange   \n8109                   smooth                    silky                  white   \n8110                   smooth                   smooth                 orange   \n8111                    silky                   smooth                  white   \n\n     Stalk-Color-Below-Ring Veil-Color Ring-Number   Ring-Type  \\\n0                     white      white         one     pendant   \n1                     white      white         one     pendant   \n2                     white      white         one     pendant   \n3                     white      white         one     pendant   \n4                     white      white         one  evanescent   \n...                     ...        ...         ...         ...   \n8107                 orange      brown         one     pendant   \n8108                 orange     orange         one     pendant   \n8109                  white      white         one  evanescent   \n8110                 orange     orange         one     pendant   \n8111                  white      white         two     pendant   \n\n     Spore-Print-Color Population  Habitat  \n0                black  scattered    urban  \n1                brown   numerous  grasses  \n2                brown   numerous  meadows  \n3                black  scattered    urban  \n4                brown   abundant  grasses  \n...                ...        ...      ...  \n8107              buff    several   leaves  \n8108              buff  clustered   leaves  \n8109             white    several   leaves  \n8110            orange  clustered   leaves  \n8111             white  scattered  grasses  \n\n[8112 rows x 22 columns]",
      "text/html": "<div>\n<style scoped>\n    .dataframe tbody tr th:only-of-type {\n        vertical-align: middle;\n    }\n\n    .dataframe tbody tr th {\n        vertical-align: top;\n    }\n\n    .dataframe thead th {\n        text-align: right;\n    }\n</style>\n<table border=\"1\" class=\"dataframe\">\n  <thead>\n    <tr style=\"text-align: right;\">\n      <th></th>\n      <th>Class</th>\n      <th>Cap-Shape</th>\n      <th>Cap-Surface</th>\n      <th>Cap-Color</th>\n      <th>Bruises</th>\n      <th>Odor</th>\n      <th>Gill-Attachment</th>\n      <th>Gill-Spacing</th>\n      <th>Gill-Size</th>\n      <th>Gill-Color</th>\n      <th>...</th>\n      <th>Stalk-Surface-Above-Ring</th>\n      <th>Stalk-Surface-Below-Ring</th>\n      <th>Stalk-Color-Above-Ring</th>\n      <th>Stalk-Color-Below-Ring</th>\n      <th>Veil-Color</th>\n      <th>Ring-Number</th>\n      <th>Ring-Type</th>\n      <th>Spore-Print-Color</th>\n      <th>Population</th>\n      <th>Habitat</th>\n    </tr>\n  </thead>\n  <tbody>\n    <tr>\n      <th>0</th>\n      <td>poisonous</td>\n      <td>convex</td>\n      <td>smooth</td>\n      <td>brown</td>\n      <td>bruises</td>\n      <td>pungent</td>\n      <td>free</td>\n      <td>close</td>\n      <td>narrow</td>\n      <td>black</td>\n      <td>...</td>\n      <td>smooth</td>\n      <td>smooth</td>\n      <td>white</td>\n      <td>white</td>\n      <td>white</td>\n      <td>one</td>\n      <td>pendant</td>\n      <td>black</td>\n      <td>scattered</td>\n      <td>urban</td>\n    </tr>\n    <tr>\n      <th>1</th>\n      <td>edible</td>\n      <td>convex</td>\n      <td>smooth</td>\n      <td>yellow</td>\n      <td>bruises</td>\n      <td>almond</td>\n      <td>free</td>\n      <td>close</td>\n      <td>broad</td>\n      <td>black</td>\n      <td>...</td>\n      <td>smooth</td>\n      <td>smooth</td>\n      <td>white</td>\n      <td>white</td>\n      <td>white</td>\n      <td>one</td>\n      <td>pendant</td>\n      <td>brown</td>\n      <td>numerous</td>\n      <td>grasses</td>\n    </tr>\n    <tr>\n      <th>2</th>\n      <td>edible</td>\n      <td>bell</td>\n      <td>smooth</td>\n      <td>white</td>\n      <td>bruises</td>\n      <td>anise</td>\n      <td>free</td>\n      <td>close</td>\n      <td>broad</td>\n      <td>brown</td>\n      <td>...</td>\n      <td>smooth</td>\n      <td>smooth</td>\n      <td>white</td>\n      <td>white</td>\n      <td>white</td>\n      <td>one</td>\n      <td>pendant</td>\n      <td>brown</td>\n      <td>numerous</td>\n      <td>meadows</td>\n    </tr>\n    <tr>\n      <th>3</th>\n      <td>poisonous</td>\n      <td>convex</td>\n      <td>scaly</td>\n      <td>white</td>\n      <td>bruises</td>\n      <td>pungent</td>\n      <td>free</td>\n      <td>close</td>\n      <td>narrow</td>\n      <td>brown</td>\n      <td>...</td>\n      <td>smooth</td>\n      <td>smooth</td>\n      <td>white</td>\n      <td>white</td>\n      <td>white</td>\n      <td>one</td>\n      <td>pendant</td>\n      <td>black</td>\n      <td>scattered</td>\n      <td>urban</td>\n    </tr>\n    <tr>\n      <th>4</th>\n      <td>edible</td>\n      <td>convex</td>\n      <td>smooth</td>\n      <td>gray</td>\n      <td>no</td>\n      <td>none</td>\n      <td>free</td>\n      <td>crowded</td>\n      <td>broad</td>\n      <td>black</td>\n      <td>...</td>\n      <td>smooth</td>\n      <td>smooth</td>\n      <td>white</td>\n      <td>white</td>\n      <td>white</td>\n      <td>one</td>\n      <td>evanescent</td>\n      <td>brown</td>\n      <td>abundant</td>\n      <td>grasses</td>\n    </tr>\n    <tr>\n      <th>...</th>\n      <td>...</td>\n      <td>...</td>\n      <td>...</td>\n      <td>...</td>\n      <td>...</td>\n      <td>...</td>\n      <td>...</td>\n      <td>...</td>\n      <td>...</td>\n      <td>...</td>\n      <td>...</td>\n      <td>...</td>\n      <td>...</td>\n      <td>...</td>\n      <td>...</td>\n      <td>...</td>\n      <td>...</td>\n      <td>...</td>\n      <td>...</td>\n      <td>...</td>\n      <td>...</td>\n    </tr>\n    <tr>\n      <th>8107</th>\n      <td>edible</td>\n      <td>convex</td>\n      <td>smooth</td>\n      <td>brown</td>\n      <td>no</td>\n      <td>none</td>\n      <td>attached</td>\n      <td>close</td>\n      <td>broad</td>\n      <td>yellow</td>\n      <td>...</td>\n      <td>smooth</td>\n      <td>smooth</td>\n      <td>orange</td>\n      <td>orange</td>\n      <td>brown</td>\n      <td>one</td>\n      <td>pendant</td>\n      <td>buff</td>\n      <td>several</td>\n      <td>leaves</td>\n    </tr>\n    <tr>\n      <th>8108</th>\n      <td>edible</td>\n      <td>flat</td>\n      <td>smooth</td>\n      <td>brown</td>\n      <td>no</td>\n      <td>none</td>\n      <td>attached</td>\n      <td>close</td>\n      <td>broad</td>\n      <td>brown</td>\n      <td>...</td>\n      <td>smooth</td>\n      <td>smooth</td>\n      <td>orange</td>\n      <td>orange</td>\n      <td>orange</td>\n      <td>one</td>\n      <td>pendant</td>\n      <td>buff</td>\n      <td>clustered</td>\n      <td>leaves</td>\n    </tr>\n    <tr>\n      <th>8109</th>\n      <td>poisonous</td>\n      <td>knobbed</td>\n      <td>scaly</td>\n      <td>brown</td>\n      <td>no</td>\n      <td>fishy</td>\n      <td>free</td>\n      <td>close</td>\n      <td>narrow</td>\n      <td>buff</td>\n      <td>...</td>\n      <td>smooth</td>\n      <td>silky</td>\n      <td>white</td>\n      <td>white</td>\n      <td>white</td>\n      <td>one</td>\n      <td>evanescent</td>\n      <td>white</td>\n      <td>several</td>\n      <td>leaves</td>\n    </tr>\n    <tr>\n      <th>8110</th>\n      <td>edible</td>\n      <td>convex</td>\n      <td>smooth</td>\n      <td>brown</td>\n      <td>no</td>\n      <td>none</td>\n      <td>attached</td>\n      <td>close</td>\n      <td>broad</td>\n      <td>yellow</td>\n      <td>...</td>\n      <td>smooth</td>\n      <td>smooth</td>\n      <td>orange</td>\n      <td>orange</td>\n      <td>orange</td>\n      <td>one</td>\n      <td>pendant</td>\n      <td>orange</td>\n      <td>clustered</td>\n      <td>leaves</td>\n    </tr>\n    <tr>\n      <th>8111</th>\n      <td>edible</td>\n      <td>knobbed</td>\n      <td>smooth</td>\n      <td>white</td>\n      <td>no</td>\n      <td>none</td>\n      <td>free</td>\n      <td>crowded</td>\n      <td>broad</td>\n      <td>gray</td>\n      <td>...</td>\n      <td>silky</td>\n      <td>smooth</td>\n      <td>white</td>\n      <td>white</td>\n      <td>white</td>\n      <td>two</td>\n      <td>pendant</td>\n      <td>white</td>\n      <td>scattered</td>\n      <td>grasses</td>\n    </tr>\n  </tbody>\n</table>\n<p>8112 rows × 22 columns</p>\n</div>"
     },
     "execution_count": 22,
     "metadata": {},
     "output_type": "execute_result"
    }
   ],
   "source": [
    "mushroom\n",
    "X = mushroom.copy()\n",
    "X"
   ],
   "metadata": {
    "collapsed": false,
    "pycharm": {
     "name": "#%%\n"
    }
   }
  },
  {
   "cell_type": "code",
   "execution_count": 23,
   "outputs": [
    {
     "data": {
      "text/plain": "array([[1., 2., 3., ..., 0., 3., 4.],\n       [0., 2., 3., ..., 1., 2., 0.],\n       [0., 0., 3., ..., 1., 2., 2.],\n       ...,\n       [1., 4., 2., ..., 7., 4., 1.],\n       [0., 2., 3., ..., 5., 1., 1.],\n       [0., 4., 3., ..., 7., 3., 0.]])"
     },
     "execution_count": 23,
     "metadata": {},
     "output_type": "execute_result"
    }
   ],
   "source": [
    "ordinal_enc = OrdinalEncoder()\n",
    "X = ordinal_enc.fit_transform(X)\n",
    "X"
   ],
   "metadata": {
    "collapsed": false,
    "pycharm": {
     "name": "#%%\n"
    }
   }
  },
  {
   "cell_type": "code",
   "execution_count": 24,
   "outputs": [],
   "source": [
    "km = KModes(random_state=42)"
   ],
   "metadata": {
    "collapsed": false,
    "pycharm": {
     "name": "#%%\n"
    }
   }
  },
  {
   "cell_type": "code",
   "execution_count": 25,
   "outputs": [
    {
     "data": {
      "text/plain": "<Figure size 1080x1080 with 2 Axes>",
      "image/png": "[encoded data removed]"
     },
     "metadata": {},
     "output_type": "display_data"
    },
    {
     "data": {
      "text/plain": "<AxesSubplot:title={'center':'Distortion Score Elbow for KModes Clustering'}, xlabel='k', ylabel='distortion score'>"
     },
     "execution_count": 25,
     "metadata": {},
     "output_type": "execute_result"
    }
   ],
   "source": [
    "plt.figure(figsize=(15,15))\n",
    "\n",
    "# run KMode from k values 2 to 10\n",
    "elbow_visualizer = KElbowVisualizer(km, k=(2,10))\n",
    "elbow_visualizer.fit(X)\n",
    "elbow_visualizer.show()"
   ],
   "metadata": {
    "collapsed": false,
    "pycharm": {
     "name": "#%%\n"
    }
   }
  },
  {
   "cell_type": "markdown",
   "source": [
    "The elbow method from this graph says there should be 5 clusters\n"
   ],
   "metadata": {
    "collapsed": false,
    "pycharm": {
     "name": "#%% md\n"
    }
   }
  },
  {
   "cell_type": "code",
   "execution_count": 26,
   "outputs": [
    {
     "data": {
      "text/plain": "Index(['Class', 'Cap-Shape', 'Cap-Surface', 'Cap-Color', 'Bruises', 'Odor',\n       'Gill-Attachment', 'Gill-Spacing', 'Gill-Size', 'Gill-Color',\n       'Stalk-Shape', 'Stalk-Root', 'Stalk-Surface-Above-Ring',\n       'Stalk-Surface-Below-Ring', 'Stalk-Color-Above-Ring',\n       'Stalk-Color-Below-Ring', 'Veil-Color', 'Ring-Number', 'Ring-Type',\n       'Spore-Print-Color', 'Population', 'Habitat'],\n      dtype='object')"
     },
     "execution_count": 26,
     "metadata": {},
     "output_type": "execute_result"
    }
   ],
   "source": [
    "mushroom.columns"
   ],
   "metadata": {
    "collapsed": false,
    "pycharm": {
     "name": "#%%\n"
    }
   }
  },
  {
   "cell_type": "code",
   "execution_count": 27,
   "outputs": [],
   "source": [
    "km5 = KModes(n_clusters=5, random_state=42)\n",
    "km5.fit(X)\n",
    "\n",
    "kmode_clusters = km5.labels_\n",
    "kmode_centroids = km5.cluster_centroids_"
   ],
   "metadata": {
    "collapsed": false,
    "pycharm": {
     "name": "#%%\n"
    }
   }
  },
  {
   "cell_type": "code",
   "execution_count": 42,
   "outputs": [
    {
     "data": {
      "text/plain": "      Cluster_Id  Class  Cap-Shape  Cap-Surface  Cap-Color  Bruises  Odor  \\\n0              0    1.0        2.0          3.0        0.0      0.0   7.0   \n1              0    0.0        2.0          3.0        9.0      0.0   0.0   \n2              0    0.0        0.0          3.0        8.0      0.0   1.0   \n3              0    1.0        2.0          2.0        8.0      0.0   7.0   \n4              4    0.0        2.0          3.0        3.0      1.0   6.0   \n...          ...    ...        ...          ...        ...      ...   ...   \n8107           0    0.0        2.0          3.0        0.0      1.0   6.0   \n8108           4    0.0        3.0          3.0        0.0      1.0   6.0   \n8109           2    1.0        4.0          2.0        0.0      1.0   3.0   \n8110           0    0.0        2.0          3.0        0.0      1.0   6.0   \n8111           3    0.0        4.0          3.0        8.0      1.0   6.0   \n\n      Gill-Attachment  Gill-Spacing  Gill-Size  ...  Stalk-Surface-Above-Ring  \\\n0                 1.0           0.0        1.0  ...                       3.0   \n1                 1.0           0.0        0.0  ...                       3.0   \n2                 1.0           0.0        0.0  ...                       3.0   \n3                 1.0           0.0        1.0  ...                       3.0   \n4                 1.0           1.0        0.0  ...                       3.0   \n...               ...           ...        ...  ...                       ...   \n8107              0.0           0.0        0.0  ...                       3.0   \n8108              0.0           0.0        0.0  ...                       3.0   \n8109              1.0           0.0        1.0  ...                       3.0   \n8110              0.0           0.0        0.0  ...                       3.0   \n8111              1.0           1.0        0.0  ...                       2.0   \n\n      Stalk-Surface-Below-Ring  Stalk-Color-Above-Ring  \\\n0                          3.0                     7.0   \n1                          3.0                     7.0   \n2                          3.0                     7.0   \n3                          3.0                     7.0   \n4                          3.0                     7.0   \n...                        ...                     ...   \n8107                       3.0                     4.0   \n8108                       3.0                     4.0   \n8109                       2.0                     7.0   \n8110                       3.0                     4.0   \n8111                       3.0                     7.0   \n\n      Stalk-Color-Below-Ring  Veil-Color  Ring-Number  Ring-Type  \\\n0                        7.0         2.0          1.0        4.0   \n1                        7.0         2.0          1.0        4.0   \n2                        7.0         2.0          1.0        4.0   \n3                        7.0         2.0          1.0        4.0   \n4                        7.0         2.0          1.0        0.0   \n...                      ...         ...          ...        ...   \n8107                     4.0         0.0          1.0        4.0   \n8108                     4.0         1.0          1.0        4.0   \n8109                     7.0         2.0          1.0        0.0   \n8110                     4.0         1.0          1.0        4.0   \n8111                     7.0         2.0          2.0        4.0   \n\n      Spore-Print-Color  Population  Habitat  \n0                   0.0         3.0      4.0  \n1                   1.0         2.0      0.0  \n2                   1.0         2.0      2.0  \n3                   0.0         3.0      4.0  \n4                   1.0         0.0      0.0  \n...                 ...         ...      ...  \n8107                2.0         4.0      1.0  \n8108                2.0         1.0      1.0  \n8109                7.0         4.0      1.0  \n8110                5.0         1.0      1.0  \n8111                7.0         3.0      0.0  \n\n[8112 rows x 23 columns]",
      "text/html": "<div>\n<style scoped>\n    .dataframe tbody tr th:only-of-type {\n        vertical-align: middle;\n    }\n\n    .dataframe tbody tr th {\n        vertical-align: top;\n    }\n\n    .dataframe thead th {\n        text-align: right;\n    }\n</style>\n<table border=\"1\" class=\"dataframe\">\n  <thead>\n    <tr style=\"text-align: right;\">\n      <th></th>\n      <th>Cluster_Id</th>\n      <th>Class</th>\n      <th>Cap-Shape</th>\n      <th>Cap-Surface</th>\n      <th>Cap-Color</th>\n      <th>Bruises</th>\n      <th>Odor</th>\n      <th>Gill-Attachment</th>\n      <th>Gill-Spacing</th>\n      <th>Gill-Size</th>\n      <th>...</th>\n      <th>Stalk-Surface-Above-Ring</th>\n      <th>Stalk-Surface-Below-Ring</th>\n      <th>Stalk-Color-Above-Ring</th>\n      <th>Stalk-Color-Below-Ring</th>\n      <th>Veil-Color</th>\n      <th>Ring-Number</th>\n      <th>Ring-Type</th>\n      <th>Spore-Print-Color</th>\n      <th>Population</th>\n      <th>Habitat</th>\n    </tr>\n  </thead>\n  <tbody>\n    <tr>\n      <th>0</th>\n      <td>0</td>\n      <td>1.0</td>\n      <td>2.0</td>\n      <td>3.0</td>\n      <td>0.0</td>\n      <td>0.0</td>\n      <td>7.0</td>\n      <td>1.0</td>\n      <td>0.0</td>\n      <td>1.0</td>\n      <td>...</td>\n      <td>3.0</td>\n      <td>3.0</td>\n      <td>7.0</td>\n      <td>7.0</td>\n      <td>2.0</td>\n      <td>1.0</td>\n      <td>4.0</td>\n      <td>0.0</td>\n      <td>3.0</td>\n      <td>4.0</td>\n    </tr>\n    <tr>\n      <th>1</th>\n      <td>0</td>\n      <td>0.0</td>\n      <td>2.0</td>\n      <td>3.0</td>\n      <td>9.0</td>\n      <td>0.0</td>\n      <td>0.0</td>\n      <td>1.0</td>\n      <td>0.0</td>\n      <td>0.0</td>\n      <td>...</td>\n      <td>3.0</td>\n      <td>3.0</td>\n      <td>7.0</td>\n      <td>7.0</td>\n      <td>2.0</td>\n      <td>1.0</td>\n      <td>4.0</td>\n      <td>1.0</td>\n      <td>2.0</td>\n      <td>0.0</td>\n    </tr>\n    <tr>\n      <th>2</th>\n      <td>0</td>\n      <td>0.0</td>\n      <td>0.0</td>\n      <td>3.0</td>\n      <td>8.0</td>\n      <td>0.0</td>\n      <td>1.0</td>\n      <td>1.0</td>\n      <td>0.0</td>\n      <td>0.0</td>\n      <td>...</td>\n      <td>3.0</td>\n      <td>3.0</td>\n      <td>7.0</td>\n      <td>7.0</td>\n      <td>2.0</td>\n      <td>1.0</td>\n      <td>4.0</td>\n      <td>1.0</td>\n      <td>2.0</td>\n      <td>2.0</td>\n    </tr>\n    <tr>\n      <th>3</th>\n      <td>0</td>\n      <td>1.0</td>\n      <td>2.0</td>\n      <td>2.0</td>\n      <td>8.0</td>\n      <td>0.0</td>\n      <td>7.0</td>\n      <td>1.0</td>\n      <td>0.0</td>\n      <td>1.0</td>\n      <td>...</td>\n      <td>3.0</td>\n      <td>3.0</td>\n      <td>7.0</td>\n      <td>7.0</td>\n      <td>2.0</td>\n      <td>1.0</td>\n      <td>4.0</td>\n      <td>0.0</td>\n      <td>3.0</td>\n      <td>4.0</td>\n    </tr>\n    <tr>\n      <th>4</th>\n      <td>4</td>\n      <td>0.0</td>\n      <td>2.0</td>\n      <td>3.0</td>\n      <td>3.0</td>\n      <td>1.0</td>\n      <td>6.0</td>\n      <td>1.0</td>\n      <td>1.0</td>\n      <td>0.0</td>\n      <td>...</td>\n      <td>3.0</td>\n      <td>3.0</td>\n      <td>7.0</td>\n      <td>7.0</td>\n      <td>2.0</td>\n      <td>1.0</td>\n      <td>0.0</td>\n      <td>1.0</td>\n      <td>0.0</td>\n      <td>0.0</td>\n    </tr>\n    <tr>\n      <th>...</th>\n      <td>...</td>\n      <td>...</td>\n      <td>...</td>\n      <td>...</td>\n      <td>...</td>\n      <td>...</td>\n      <td>...</td>\n      <td>...</td>\n      <td>...</td>\n      <td>...</td>\n      <td>...</td>\n      <td>...</td>\n      <td>...</td>\n      <td>...</td>\n      <td>...</td>\n      <td>...</td>\n      <td>...</td>\n      <td>...</td>\n      <td>...</td>\n      <td>...</td>\n      <td>...</td>\n    </tr>\n    <tr>\n      <th>8107</th>\n      <td>0</td>\n      <td>0.0</td>\n      <td>2.0</td>\n      <td>3.0</td>\n      <td>0.0</td>\n      <td>1.0</td>\n      <td>6.0</td>\n      <td>0.0</td>\n      <td>0.0</td>\n      <td>0.0</td>\n      <td>...</td>\n      <td>3.0</td>\n      <td>3.0</td>\n      <td>4.0</td>\n      <td>4.0</td>\n      <td>0.0</td>\n      <td>1.0</td>\n      <td>4.0</td>\n      <td>2.0</td>\n      <td>4.0</td>\n      <td>1.0</td>\n    </tr>\n    <tr>\n      <th>8108</th>\n      <td>4</td>\n      <td>0.0</td>\n      <td>3.0</td>\n      <td>3.0</td>\n      <td>0.0</td>\n      <td>1.0</td>\n      <td>6.0</td>\n      <td>0.0</td>\n      <td>0.0</td>\n      <td>0.0</td>\n      <td>...</td>\n      <td>3.0</td>\n      <td>3.0</td>\n      <td>4.0</td>\n      <td>4.0</td>\n      <td>1.0</td>\n      <td>1.0</td>\n      <td>4.0</td>\n      <td>2.0</td>\n      <td>1.0</td>\n      <td>1.0</td>\n    </tr>\n    <tr>\n      <th>8109</th>\n      <td>2</td>\n      <td>1.0</td>\n      <td>4.0</td>\n      <td>2.0</td>\n      <td>0.0</td>\n      <td>1.0</td>\n      <td>3.0</td>\n      <td>1.0</td>\n      <td>0.0</td>\n      <td>1.0</td>\n      <td>...</td>\n      <td>3.0</td>\n      <td>2.0</td>\n      <td>7.0</td>\n      <td>7.0</td>\n      <td>2.0</td>\n      <td>1.0</td>\n      <td>0.0</td>\n      <td>7.0</td>\n      <td>4.0</td>\n      <td>1.0</td>\n    </tr>\n    <tr>\n      <th>8110</th>\n      <td>0</td>\n      <td>0.0</td>\n      <td>2.0</td>\n      <td>3.0</td>\n      <td>0.0</td>\n      <td>1.0</td>\n      <td>6.0</td>\n      <td>0.0</td>\n      <td>0.0</td>\n      <td>0.0</td>\n      <td>...</td>\n      <td>3.0</td>\n      <td>3.0</td>\n      <td>4.0</td>\n      <td>4.0</td>\n      <td>1.0</td>\n      <td>1.0</td>\n      <td>4.0</td>\n      <td>5.0</td>\n      <td>1.0</td>\n      <td>1.0</td>\n    </tr>\n    <tr>\n      <th>8111</th>\n      <td>3</td>\n      <td>0.0</td>\n      <td>4.0</td>\n      <td>3.0</td>\n      <td>8.0</td>\n      <td>1.0</td>\n      <td>6.0</td>\n      <td>1.0</td>\n      <td>1.0</td>\n      <td>0.0</td>\n      <td>...</td>\n      <td>2.0</td>\n      <td>3.0</td>\n      <td>7.0</td>\n      <td>7.0</td>\n      <td>2.0</td>\n      <td>2.0</td>\n      <td>4.0</td>\n      <td>7.0</td>\n      <td>3.0</td>\n      <td>0.0</td>\n    </tr>\n  </tbody>\n</table>\n<p>8112 rows × 23 columns</p>\n</div>"
     },
     "execution_count": 42,
     "metadata": {},
     "output_type": "execute_result"
    }
   ],
   "source": [
    "mushroom_d = pd.DataFrame(X, columns=mushroom.columns)\n",
    "mushroom_d.insert(0, 'Cluster_Id', kmode_clusters)\n",
    "mushroom_d"
   ],
   "metadata": {
    "collapsed": false,
    "pycharm": {
     "name": "#%%\n"
    }
   }
  },
  {
   "cell_type": "code",
   "execution_count": 57,
   "outputs": [
    {
     "data": {
      "text/plain": "            Class  Cap-Shape  Cap-Surface  Cap-Color  Bruises  Odor  \\\nCluster_Id                                                            \n0             0.0        2.0          2.0        0.0      0.0   6.0   \n1             1.0        2.0          2.0        9.0      1.0   4.0   \n2             1.0        3.0          2.0        0.0      1.0   8.0   \n3             0.0        2.0          3.0        8.0      1.0   6.0   \n4             0.0        3.0          3.0        8.0      1.0   6.0   \n\n            Gill-Attachment  Gill-Spacing  Gill-Size  Gill-Color  ...  \\\nCluster_Id                                                        ...   \n0                       1.0           0.0        0.0        10.0  ...   \n1                       1.0           0.0        0.0         4.0  ...   \n2                       1.0           0.0        1.0         2.0  ...   \n3                       1.0           1.0        0.0        10.0  ...   \n4                       1.0           1.0        0.0         1.0  ...   \n\n            Stalk-Surface-Above-Ring  Stalk-Surface-Below-Ring  \\\nCluster_Id                                                       \n0                                3.0                       3.0   \n1                                2.0                       2.0   \n2                                2.0                       3.0   \n3                                3.0                       3.0   \n4                                3.0                       3.0   \n\n            Stalk-Color-Above-Ring  Stalk-Color-Below-Ring  Veil-Color  \\\nCluster_Id                                                               \n0                              7.0                     7.0         2.0   \n1                              5.0                     0.0         2.0   \n2                              7.0                     5.0         2.0   \n3                              7.0                     7.0         2.0   \n4                              7.0                     7.0         2.0   \n\n            Ring-Number  Ring-Type  Spore-Print-Color  Population  Habitat  \nCluster_Id                                                                  \n0                   1.0        4.0                1.0         4.0      6.0  \n1                   1.0        2.0                3.0         4.0      6.0  \n2                   1.0        0.0                7.0         4.0      6.0  \n3                   2.0        4.0                7.0         3.0      0.0  \n4                   1.0        0.0                0.0         3.0      0.0  \n\n[5 rows x 22 columns]",
      "text/html": "<div>\n<style scoped>\n    .dataframe tbody tr th:only-of-type {\n        vertical-align: middle;\n    }\n\n    .dataframe tbody tr th {\n        vertical-align: top;\n    }\n\n    .dataframe thead th {\n        text-align: right;\n    }\n</style>\n<table border=\"1\" class=\"dataframe\">\n  <thead>\n    <tr style=\"text-align: right;\">\n      <th></th>\n      <th>Class</th>\n      <th>Cap-Shape</th>\n      <th>Cap-Surface</th>\n      <th>Cap-Color</th>\n      <th>Bruises</th>\n      <th>Odor</th>\n      <th>Gill-Attachment</th>\n      <th>Gill-Spacing</th>\n      <th>Gill-Size</th>\n      <th>Gill-Color</th>\n      <th>...</th>\n      <th>Stalk-Surface-Above-Ring</th>\n      <th>Stalk-Surface-Below-Ring</th>\n      <th>Stalk-Color-Above-Ring</th>\n      <th>Stalk-Color-Below-Ring</th>\n      <th>Veil-Color</th>\n      <th>Ring-Number</th>\n      <th>Ring-Type</th>\n      <th>Spore-Print-Color</th>\n      <th>Population</th>\n      <th>Habitat</th>\n    </tr>\n    <tr>\n      <th>Cluster_Id</th>\n      <th></th>\n      <th></th>\n      <th></th>\n      <th></th>\n      <th></th>\n      <th></th>\n      <th></th>\n      <th></th>\n      <th></th>\n      <th></th>\n      <th></th>\n      <th></th>\n      <th></th>\n      <th></th>\n      <th></th>\n      <th></th>\n      <th></th>\n      <th></th>\n      <th></th>\n      <th></th>\n      <th></th>\n    </tr>\n  </thead>\n  <tbody>\n    <tr>\n      <th>0</th>\n      <td>0.0</td>\n      <td>2.0</td>\n      <td>2.0</td>\n      <td>0.0</td>\n      <td>0.0</td>\n      <td>6.0</td>\n      <td>1.0</td>\n      <td>0.0</td>\n      <td>0.0</td>\n      <td>10.0</td>\n      <td>...</td>\n      <td>3.0</td>\n      <td>3.0</td>\n      <td>7.0</td>\n      <td>7.0</td>\n      <td>2.0</td>\n      <td>1.0</td>\n      <td>4.0</td>\n      <td>1.0</td>\n      <td>4.0</td>\n      <td>6.0</td>\n    </tr>\n    <tr>\n      <th>1</th>\n      <td>1.0</td>\n      <td>2.0</td>\n      <td>2.0</td>\n      <td>9.0</td>\n      <td>1.0</td>\n      <td>4.0</td>\n      <td>1.0</td>\n      <td>0.0</td>\n      <td>0.0</td>\n      <td>4.0</td>\n      <td>...</td>\n      <td>2.0</td>\n      <td>2.0</td>\n      <td>5.0</td>\n      <td>0.0</td>\n      <td>2.0</td>\n      <td>1.0</td>\n      <td>2.0</td>\n      <td>3.0</td>\n      <td>4.0</td>\n      <td>6.0</td>\n    </tr>\n    <tr>\n      <th>2</th>\n      <td>1.0</td>\n      <td>3.0</td>\n      <td>2.0</td>\n      <td>0.0</td>\n      <td>1.0</td>\n      <td>8.0</td>\n      <td>1.0</td>\n      <td>0.0</td>\n      <td>1.0</td>\n      <td>2.0</td>\n      <td>...</td>\n      <td>2.0</td>\n      <td>3.0</td>\n      <td>7.0</td>\n      <td>5.0</td>\n      <td>2.0</td>\n      <td>1.0</td>\n      <td>0.0</td>\n      <td>7.0</td>\n      <td>4.0</td>\n      <td>6.0</td>\n    </tr>\n    <tr>\n      <th>3</th>\n      <td>0.0</td>\n      <td>2.0</td>\n      <td>3.0</td>\n      <td>8.0</td>\n      <td>1.0</td>\n      <td>6.0</td>\n      <td>1.0</td>\n      <td>1.0</td>\n      <td>0.0</td>\n      <td>10.0</td>\n      <td>...</td>\n      <td>3.0</td>\n      <td>3.0</td>\n      <td>7.0</td>\n      <td>7.0</td>\n      <td>2.0</td>\n      <td>2.0</td>\n      <td>4.0</td>\n      <td>7.0</td>\n      <td>3.0</td>\n      <td>0.0</td>\n    </tr>\n    <tr>\n      <th>4</th>\n      <td>0.0</td>\n      <td>3.0</td>\n      <td>3.0</td>\n      <td>8.0</td>\n      <td>1.0</td>\n      <td>6.0</td>\n      <td>1.0</td>\n      <td>1.0</td>\n      <td>0.0</td>\n      <td>1.0</td>\n      <td>...</td>\n      <td>3.0</td>\n      <td>3.0</td>\n      <td>7.0</td>\n      <td>7.0</td>\n      <td>2.0</td>\n      <td>1.0</td>\n      <td>0.0</td>\n      <td>0.0</td>\n      <td>3.0</td>\n      <td>0.0</td>\n    </tr>\n  </tbody>\n</table>\n<p>5 rows × 22 columns</p>\n</div>"
     },
     "execution_count": 57,
     "metadata": {},
     "output_type": "execute_result"
    }
   ],
   "source": [
    "# we group by mode because our categoires are not ordinal by nature\n",
    "mushroom_clusters = mushroom_d[mushroom_d.columns.tolist()].groupby('Cluster_Id').agg(lambda x:x.value_counts().index[0])\n",
    "mushroom_clusters"
   ],
   "metadata": {
    "collapsed": false,
    "pycharm": {
     "name": "#%%\n"
    }
   }
  },
  {
   "cell_type": "code",
   "execution_count": 58,
   "outputs": [
    {
     "data": {
      "text/plain": "(5, 22)"
     },
     "execution_count": 58,
     "metadata": {},
     "output_type": "execute_result"
    }
   ],
   "source": [
    "mushroom_clusters.shape"
   ],
   "metadata": {
    "collapsed": false,
    "pycharm": {
     "name": "#%%\n"
    }
   }
  },
  {
   "cell_type": "code",
   "execution_count": 59,
   "outputs": [
    {
     "data": {
      "text/plain": "       Class Cap-Shape Cap-Surface Cap-Color  Bruises   Odor Gill-Attachment  \\\n0     edible    convex       scaly     brown  bruises   none            free   \n1  poisonous    convex       scaly    yellow       no   foul            free   \n2  poisonous      flat       scaly     brown       no  spicy            free   \n3     edible    convex      smooth     white       no   none            free   \n4     edible      flat      smooth     white       no   none            free   \n\n  Gill-Spacing Gill-Size Gill-Color  ... Stalk-Surface-Above-Ring  \\\n0        close     broad      white  ...                   smooth   \n1        close     broad       gray  ...                    silky   \n2        close    narrow       buff  ...                    silky   \n3      crowded     broad      white  ...                   smooth   \n4      crowded     broad      brown  ...                   smooth   \n\n  Stalk-Surface-Below-Ring Stalk-Color-Above-Ring Stalk-Color-Below-Ring  \\\n0                   smooth                  white                  white   \n1                    silky                   pink                  brown   \n2                   smooth                  white                   pink   \n3                   smooth                  white                  white   \n4                   smooth                  white                  white   \n\n  Veil-Color Ring-Number   Ring-Type Spore-Print-Color Population  Habitat  \n0      white         one     pendant             brown    several    woods  \n1      white         one       large         chocolate    several    woods  \n2      white         one  evanescent             white    several    woods  \n3      white         two     pendant             white  scattered  grasses  \n4      white         one  evanescent             black  scattered  grasses  \n\n[5 rows x 22 columns]",
      "text/html": "<div>\n<style scoped>\n    .dataframe tbody tr th:only-of-type {\n        vertical-align: middle;\n    }\n\n    .dataframe tbody tr th {\n        vertical-align: top;\n    }\n\n    .dataframe thead th {\n        text-align: right;\n    }\n</style>\n<table border=\"1\" class=\"dataframe\">\n  <thead>\n    <tr style=\"text-align: right;\">\n      <th></th>\n      <th>Class</th>\n      <th>Cap-Shape</th>\n      <th>Cap-Surface</th>\n      <th>Cap-Color</th>\n      <th>Bruises</th>\n      <th>Odor</th>\n      <th>Gill-Attachment</th>\n      <th>Gill-Spacing</th>\n      <th>Gill-Size</th>\n      <th>Gill-Color</th>\n      <th>...</th>\n      <th>Stalk-Surface-Above-Ring</th>\n      <th>Stalk-Surface-Below-Ring</th>\n      <th>Stalk-Color-Above-Ring</th>\n      <th>Stalk-Color-Below-Ring</th>\n      <th>Veil-Color</th>\n      <th>Ring-Number</th>\n      <th>Ring-Type</th>\n      <th>Spore-Print-Color</th>\n      <th>Population</th>\n      <th>Habitat</th>\n    </tr>\n  </thead>\n  <tbody>\n    <tr>\n      <th>0</th>\n      <td>edible</td>\n      <td>convex</td>\n      <td>scaly</td>\n      <td>brown</td>\n      <td>bruises</td>\n      <td>none</td>\n      <td>free</td>\n      <td>close</td>\n      <td>broad</td>\n      <td>white</td>\n      <td>...</td>\n      <td>smooth</td>\n      <td>smooth</td>\n      <td>white</td>\n      <td>white</td>\n      <td>white</td>\n      <td>one</td>\n      <td>pendant</td>\n      <td>brown</td>\n      <td>several</td>\n      <td>woods</td>\n    </tr>\n    <tr>\n      <th>1</th>\n      <td>poisonous</td>\n      <td>convex</td>\n      <td>scaly</td>\n      <td>yellow</td>\n      <td>no</td>\n      <td>foul</td>\n      <td>free</td>\n      <td>close</td>\n      <td>broad</td>\n      <td>gray</td>\n      <td>...</td>\n      <td>silky</td>\n      <td>silky</td>\n      <td>pink</td>\n      <td>brown</td>\n      <td>white</td>\n      <td>one</td>\n      <td>large</td>\n      <td>chocolate</td>\n      <td>several</td>\n      <td>woods</td>\n    </tr>\n    <tr>\n      <th>2</th>\n      <td>poisonous</td>\n      <td>flat</td>\n      <td>scaly</td>\n      <td>brown</td>\n      <td>no</td>\n      <td>spicy</td>\n      <td>free</td>\n      <td>close</td>\n      <td>narrow</td>\n      <td>buff</td>\n      <td>...</td>\n      <td>silky</td>\n      <td>smooth</td>\n      <td>white</td>\n      <td>pink</td>\n      <td>white</td>\n      <td>one</td>\n      <td>evanescent</td>\n      <td>white</td>\n      <td>several</td>\n      <td>woods</td>\n    </tr>\n    <tr>\n      <th>3</th>\n      <td>edible</td>\n      <td>convex</td>\n      <td>smooth</td>\n      <td>white</td>\n      <td>no</td>\n      <td>none</td>\n      <td>free</td>\n      <td>crowded</td>\n      <td>broad</td>\n      <td>white</td>\n      <td>...</td>\n      <td>smooth</td>\n      <td>smooth</td>\n      <td>white</td>\n      <td>white</td>\n      <td>white</td>\n      <td>two</td>\n      <td>pendant</td>\n      <td>white</td>\n      <td>scattered</td>\n      <td>grasses</td>\n    </tr>\n    <tr>\n      <th>4</th>\n      <td>edible</td>\n      <td>flat</td>\n      <td>smooth</td>\n      <td>white</td>\n      <td>no</td>\n      <td>none</td>\n      <td>free</td>\n      <td>crowded</td>\n      <td>broad</td>\n      <td>brown</td>\n      <td>...</td>\n      <td>smooth</td>\n      <td>smooth</td>\n      <td>white</td>\n      <td>white</td>\n      <td>white</td>\n      <td>one</td>\n      <td>evanescent</td>\n      <td>black</td>\n      <td>scattered</td>\n      <td>grasses</td>\n    </tr>\n  </tbody>\n</table>\n<p>5 rows × 22 columns</p>\n</div>"
     },
     "execution_count": 59,
     "metadata": {},
     "output_type": "execute_result"
    }
   ],
   "source": [
    "# Make a dataframe with labels instead of encoded values for interpretability\n",
    "mushroom_clusters = pd.DataFrame(ordinal_enc.inverse_transform(mushroom_clusters), columns=mushroom_clusters.columns)\n",
    "mushroom_clusters"
   ],
   "metadata": {
    "collapsed": false,
    "pycharm": {
     "name": "#%%\n"
    }
   }
  },
  {
   "cell_type": "code",
   "execution_count": 69,
   "outputs": [
    {
     "data": {
      "text/plain": "                                 0          1           2          3  \\\nClass                       edible  poisonous   poisonous     edible   \nCap-Shape                   convex     convex        flat     convex   \nCap-Surface                  scaly      scaly       scaly     smooth   \nCap-Color                    brown     yellow       brown      white   \nBruises                    bruises         no          no         no   \nOdor                          none       foul       spicy       none   \nGill-Attachment               free       free        free       free   \nGill-Spacing                 close      close       close    crowded   \nGill-Size                    broad      broad      narrow      broad   \nGill-Color                   white       gray        buff      white   \nStalk-Shape               tapering  enlarging    tapering  enlarging   \nStalk-Root                 bulbous    bulbous     bulbous    bulbous   \nStalk-Surface-Above-Ring    smooth      silky       silky     smooth   \nStalk-Surface-Below-Ring    smooth      silky      smooth     smooth   \nStalk-Color-Above-Ring       white       pink       white      white   \nStalk-Color-Below-Ring       white      brown        pink      white   \nVeil-Color                   white      white       white      white   \nRing-Number                    one        one         one        two   \nRing-Type                  pendant      large  evanescent    pendant   \nSpore-Print-Color            brown  chocolate       white      white   \nPopulation                 several    several     several  scattered   \nHabitat                      woods      woods       woods    grasses   \n\n                                   4  \nClass                         edible  \nCap-Shape                       flat  \nCap-Surface                   smooth  \nCap-Color                      white  \nBruises                           no  \nOdor                            none  \nGill-Attachment                 free  \nGill-Spacing                 crowded  \nGill-Size                      broad  \nGill-Color                     brown  \nStalk-Shape                 tapering  \nStalk-Root                     equal  \nStalk-Surface-Above-Ring      smooth  \nStalk-Surface-Below-Ring      smooth  \nStalk-Color-Above-Ring         white  \nStalk-Color-Below-Ring         white  \nVeil-Color                     white  \nRing-Number                      one  \nRing-Type                 evanescent  \nSpore-Print-Color              black  \nPopulation                 scattered  \nHabitat                      grasses  ",
      "text/html": "<div>\n<style scoped>\n    .dataframe tbody tr th:only-of-type {\n        vertical-align: middle;\n    }\n\n    .dataframe tbody tr th {\n        vertical-align: top;\n    }\n\n    .dataframe thead th {\n        text-align: right;\n    }\n</style>\n<table border=\"1\" class=\"dataframe\">\n  <thead>\n    <tr style=\"text-align: right;\">\n      <th></th>\n      <th>0</th>\n      <th>1</th>\n      <th>2</th>\n      <th>3</th>\n      <th>4</th>\n    </tr>\n  </thead>\n  <tbody>\n    <tr>\n      <th>Class</th>\n      <td>edible</td>\n      <td>poisonous</td>\n      <td>poisonous</td>\n      <td>edible</td>\n      <td>edible</td>\n    </tr>\n    <tr>\n      <th>Cap-Shape</th>\n      <td>convex</td>\n      <td>convex</td>\n      <td>flat</td>\n      <td>convex</td>\n      <td>flat</td>\n    </tr>\n    <tr>\n      <th>Cap-Surface</th>\n      <td>scaly</td>\n      <td>scaly</td>\n      <td>scaly</td>\n      <td>smooth</td>\n      <td>smooth</td>\n    </tr>\n    <tr>\n      <th>Cap-Color</th>\n      <td>brown</td>\n      <td>yellow</td>\n      <td>brown</td>\n      <td>white</td>\n      <td>white</td>\n    </tr>\n    <tr>\n      <th>Bruises</th>\n      <td>bruises</td>\n      <td>no</td>\n      <td>no</td>\n      <td>no</td>\n      <td>no</td>\n    </tr>\n    <tr>\n      <th>Odor</th>\n      <td>none</td>\n      <td>foul</td>\n      <td>spicy</td>\n      <td>none</td>\n      <td>none</td>\n    </tr>\n    <tr>\n      <th>Gill-Attachment</th>\n      <td>free</td>\n      <td>free</td>\n      <td>free</td>\n      <td>free</td>\n      <td>free</td>\n    </tr>\n    <tr>\n      <th>Gill-Spacing</th>\n      <td>close</td>\n      <td>close</td>\n      <td>close</td>\n      <td>crowded</td>\n      <td>crowded</td>\n    </tr>\n    <tr>\n      <th>Gill-Size</th>\n      <td>broad</td>\n      <td>broad</td>\n      <td>narrow</td>\n      <td>broad</td>\n      <td>broad</td>\n    </tr>\n    <tr>\n      <th>Gill-Color</th>\n      <td>white</td>\n      <td>gray</td>\n      <td>buff</td>\n      <td>white</td>\n      <td>brown</td>\n    </tr>\n    <tr>\n      <th>Stalk-Shape</th>\n      <td>tapering</td>\n      <td>enlarging</td>\n      <td>tapering</td>\n      <td>enlarging</td>\n      <td>tapering</td>\n    </tr>\n    <tr>\n      <th>Stalk-Root</th>\n      <td>bulbous</td>\n      <td>bulbous</td>\n      <td>bulbous</td>\n      <td>bulbous</td>\n      <td>equal</td>\n    </tr>\n    <tr>\n      <th>Stalk-Surface-Above-Ring</th>\n      <td>smooth</td>\n      <td>silky</td>\n      <td>silky</td>\n      <td>smooth</td>\n      <td>smooth</td>\n    </tr>\n    <tr>\n      <th>Stalk-Surface-Below-Ring</th>\n      <td>smooth</td>\n      <td>silky</td>\n      <td>smooth</td>\n      <td>smooth</td>\n      <td>smooth</td>\n    </tr>\n    <tr>\n      <th>Stalk-Color-Above-Ring</th>\n      <td>white</td>\n      <td>pink</td>\n      <td>white</td>\n      <td>white</td>\n      <td>white</td>\n    </tr>\n    <tr>\n      <th>Stalk-Color-Below-Ring</th>\n      <td>white</td>\n      <td>brown</td>\n      <td>pink</td>\n      <td>white</td>\n      <td>white</td>\n    </tr>\n    <tr>\n      <th>Veil-Color</th>\n      <td>white</td>\n      <td>white</td>\n      <td>white</td>\n      <td>white</td>\n      <td>white</td>\n    </tr>\n    <tr>\n      <th>Ring-Number</th>\n      <td>one</td>\n      <td>one</td>\n      <td>one</td>\n      <td>two</td>\n      <td>one</td>\n    </tr>\n    <tr>\n      <th>Ring-Type</th>\n      <td>pendant</td>\n      <td>large</td>\n      <td>evanescent</td>\n      <td>pendant</td>\n      <td>evanescent</td>\n    </tr>\n    <tr>\n      <th>Spore-Print-Color</th>\n      <td>brown</td>\n      <td>chocolate</td>\n      <td>white</td>\n      <td>white</td>\n      <td>black</td>\n    </tr>\n    <tr>\n      <th>Population</th>\n      <td>several</td>\n      <td>several</td>\n      <td>several</td>\n      <td>scattered</td>\n      <td>scattered</td>\n    </tr>\n    <tr>\n      <th>Habitat</th>\n      <td>woods</td>\n      <td>woods</td>\n      <td>woods</td>\n      <td>grasses</td>\n      <td>grasses</td>\n    </tr>\n  </tbody>\n</table>\n</div>"
     },
     "execution_count": 69,
     "metadata": {},
     "output_type": "execute_result"
    }
   ],
   "source": [
    "mushroom_clusters.T"
   ],
   "metadata": {
    "collapsed": false,
    "pycharm": {
     "name": "#%%\n"
    }
   }
  },
  {
   "cell_type": "markdown",
   "source": [
    "### Evaluation\n",
    "Because our categories are not ordinal of nature we cannot necessarily use a mean for our average because it would make\n",
    "least sense in terms of interpretation. Instead mode for our average was used as frequency features makes most sense for\n",
    "our problem and would lead to more interpretability.\n",
    "\n",
    "From our results, it appears that 5 clusters can be generated from the mushroom dataset.\n",
    "From the 5 clusters, some prominent features noted\n",
    "* Cluster 0: edible, no odor, white gill-color, and stalk-surface-above-ring is smooth\n",
    "* Cluster 1: poisonous, foul odor, gray gill-color, and stalk-surface-above-ring is silky\n",
    "* Cluster 2: poisonous, spicy odor, buff gill color, and stalk-surface-above-ring is silky\n",
    "* Cluster 3: Edible, no odor, white gill color, and stalk-surface-above-ring is smooth\n",
    "* Cluster 4: Edible, no odor, brown gill color, and stalk-surface-above-ring is smooth\n",
    "\n",
    "This pattern in analysis leads to belief that edible mushrooms will often have no smell, and have a stalk-surface-above-ring\n",
    "this is smooth.\n",
    "Other notable patterns from looking at the clusters are that mushrooms in wood habitats have serveral population, wheras\n",
    "grass habitat mushrooms have scattered populations, and crowded gill-spacing rather than close.\n",
    "\n",
    "The methods for answering this question were taken from the Cluster Analysis datacamp course, particularly the\n",
    "elbow method used to determine the optimum number of clusters to choose from. Also the explanation of clustering\n",
    "and using visuals for interpretation from the Cluster Analysis in Python course were used as well. Unfortunately\n",
    "because datacamp only explains and uses kmeans in the course, learning to kmode was taken from a separate online\n",
    "source, the Pypi.org libraries."
   ],
   "metadata": {
    "collapsed": false,
    "pycharm": {
     "name": "#%% md\n"
    }
   }
  }
 ],
 "metadata": {
  "kernelspec": {
   "display_name": "Python 3",
   "language": "python",
   "name": "python3"
  },
  "language_info": {
   "codemirror_mode": {
    "name": "ipython",
    "version": 2
   },
   "file_extension": ".py",
   "mimetype": "text/x-python",
   "name": "python",
   "nbconvert_exporter": "python",
   "pygments_lexer": "ipython2",
   "version": "2.7.6"
  }
 },
 "nbformat": 4,
 "nbformat_minor": 0
}